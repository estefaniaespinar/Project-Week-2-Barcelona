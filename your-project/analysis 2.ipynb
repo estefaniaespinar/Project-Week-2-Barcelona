{
 "cells": [
  {
   "cell_type": "markdown",
   "metadata": {},
   "source": [
    "# ANALYSIS"
   ]
  },
  {
   "cell_type": "markdown",
   "metadata": {},
   "source": [
    "## Question to be answered\n",
    "\n",
    "We want to answer the question: How are the immigrants in Barcelona in each District?\n",
    "\n",
    "To answer that we will focus on:\n",
    "- Immigrants in Barcelona by Age and District\n",
    "- Immigrants in Barcelona by Gender and District\n",
    "- Immigrants in Barcelona by Nationality and District\n",
    "\n",
    "And after that, we will compare this data with the population of Barcelona by District"
   ]
  },
  {
   "cell_type": "markdown",
   "metadata": {},
   "source": [
    "## Analysis 1: immigrants by nationality"
   ]
  },
  {
   "cell_type": "code",
   "execution_count": 1,
   "metadata": {},
   "outputs": [],
   "source": [
    "# First thing, we import pandas and numpy:\n",
    "import pandas as pd\n",
    "import numpy as np"
   ]
  },
  {
   "cell_type": "code",
   "execution_count": 2,
   "metadata": {},
   "outputs": [],
   "source": [
    "# Now we import our csv to start analysing it:\n",
    "n = pd.read_csv('datasets/Cleaned Datasets/nationality_cleaned.csv')"
   ]
  },
  {
   "cell_type": "code",
   "execution_count": 3,
   "metadata": {},
   "outputs": [
    {
     "data": {
      "text/plain": "Unnamed: 0        int64\nYear              int64\nDistrict Name    object\nNationality      object\nNumber            int64\ndtype: object"
     },
     "execution_count": 3,
     "metadata": {},
     "output_type": "execute_result"
    }
   ],
   "source": [
    "# We will type 'n.dtypes' to understand with which kind of data are we working\n",
    "n.dtypes"
   ]
  },
  {
   "cell_type": "code",
   "execution_count": 4,
   "metadata": {},
   "outputs": [],
   "source": [
    "#Deleting first column and Year because we do not need them.\n",
    "n.drop(['Unnamed: 0', 'Year'], axis=1, inplace=True)"
   ]
  },
  {
   "cell_type": "code",
   "execution_count": 5,
   "metadata": {},
   "outputs": [
    {
     "data": {
      "text/html": "<div>\n<style scoped>\n    .dataframe tbody tr th:only-of-type {\n        vertical-align: middle;\n    }\n\n    .dataframe tbody tr th {\n        vertical-align: top;\n    }\n\n    .dataframe thead th {\n        text-align: right;\n    }\n</style>\n<table border=\"1\" class=\"dataframe\">\n  <thead>\n    <tr style=\"text-align: right;\">\n      <th></th>\n      <th>District Name</th>\n      <th>Nationality</th>\n      <th>Number</th>\n    </tr>\n  </thead>\n  <tbody>\n    <tr>\n      <th>0</th>\n      <td>Ciutat Vella</td>\n      <td>Spain</td>\n      <td>1109</td>\n    </tr>\n    <tr>\n      <th>1</th>\n      <td>Ciutat Vella</td>\n      <td>Spain</td>\n      <td>482</td>\n    </tr>\n    <tr>\n      <th>2</th>\n      <td>Ciutat Vella</td>\n      <td>Spain</td>\n      <td>414</td>\n    </tr>\n    <tr>\n      <th>3</th>\n      <td>Ciutat Vella</td>\n      <td>Spain</td>\n      <td>537</td>\n    </tr>\n    <tr>\n      <th>4</th>\n      <td>Eixample</td>\n      <td>Spain</td>\n      <td>663</td>\n    </tr>\n  </tbody>\n</table>\n</div>",
      "text/plain": "  District Name Nationality  Number\n0  Ciutat Vella       Spain    1109\n1  Ciutat Vella       Spain     482\n2  Ciutat Vella       Spain     414\n3  Ciutat Vella       Spain     537\n4      Eixample       Spain     663"
     },
     "execution_count": 5,
     "metadata": {},
     "output_type": "execute_result"
    }
   ],
   "source": [
    "n.head()"
   ]
  },
  {
   "cell_type": "code",
   "execution_count": 6,
   "metadata": {},
   "outputs": [],
   "source": [
    "#Now we want to group by District Name and Nationality\n",
    "n = n.groupby(['District Name', 'Nationality']).sum()"
   ]
  },
  {
   "cell_type": "code",
   "execution_count": 7,
   "metadata": {},
   "outputs": [],
   "source": [
    "#And next step is to delete all the rows where there are no number of immigrants\n",
    "n = n.loc[n['Number']!=0]"
   ]
  },
  {
   "cell_type": "code",
   "execution_count": 8,
   "metadata": {},
   "outputs": [],
   "source": [
    "#Sorting the data to get the highest number of immigrants by disctric\n",
    "n = n.groupby(level=0, group_keys=False).apply(lambda x: x.sort_values(['Number'], ascending=False))"
   ]
  },
  {
   "cell_type": "code",
   "execution_count": 9,
   "metadata": {},
   "outputs": [],
   "source": [
    "#getting the total number of immigrants by distric\n",
    "n_total = n.groupby(['District Name']).sum()"
   ]
  },
  {
   "cell_type": "code",
   "execution_count": 10,
   "metadata": {},
   "outputs": [
    {
     "data": {
      "text/html": "<div>\n<style scoped>\n    .dataframe tbody tr th:only-of-type {\n        vertical-align: middle;\n    }\n\n    .dataframe tbody tr th {\n        vertical-align: top;\n    }\n\n    .dataframe thead th {\n        text-align: right;\n    }\n</style>\n<table border=\"1\" class=\"dataframe\">\n  <thead>\n    <tr style=\"text-align: right;\">\n      <th></th>\n      <th>Number</th>\n    </tr>\n    <tr>\n      <th>District Name</th>\n      <th></th>\n    </tr>\n  </thead>\n  <tbody>\n    <tr>\n      <th>Ciutat Vella</th>\n      <td>12611</td>\n    </tr>\n    <tr>\n      <th>Eixample</th>\n      <td>19047</td>\n    </tr>\n    <tr>\n      <th>Gràcia</th>\n      <td>7254</td>\n    </tr>\n    <tr>\n      <th>Horta-Guinardó</th>\n      <td>7799</td>\n    </tr>\n    <tr>\n      <th>Les Corts</th>\n      <td>4375</td>\n    </tr>\n    <tr>\n      <th>No consta</th>\n      <td>2</td>\n    </tr>\n    <tr>\n      <th>Nou Barris</th>\n      <td>8274</td>\n    </tr>\n    <tr>\n      <th>Sant Andreu</th>\n      <td>6335</td>\n    </tr>\n    <tr>\n      <th>Sant Martí</th>\n      <td>12720</td>\n    </tr>\n    <tr>\n      <th>Sants-Montjuïc</th>\n      <td>11683</td>\n    </tr>\n    <tr>\n      <th>Sarrià-Sant Gervasi</th>\n      <td>7227</td>\n    </tr>\n  </tbody>\n</table>\n</div>",
      "text/plain": "                     Number\nDistrict Name              \nCiutat Vella          12611\nEixample              19047\nGràcia                 7254\nHorta-Guinardó         7799\nLes Corts              4375\nNo consta                 2\nNou Barris             8274\nSant Andreu            6335\nSant Martí            12720\nSants-Montjuïc        11683\nSarrià-Sant Gervasi    7227"
     },
     "execution_count": 10,
     "metadata": {},
     "output_type": "execute_result"
    }
   ],
   "source": [
    "n_total"
   ]
  },
  {
   "cell_type": "code",
   "execution_count": 11,
   "metadata": {},
   "outputs": [
    {
     "data": {
      "text/html": "<div>\n<style scoped>\n    .dataframe tbody tr th:only-of-type {\n        vertical-align: middle;\n    }\n\n    .dataframe tbody tr th {\n        vertical-align: top;\n    }\n\n    .dataframe thead th {\n        text-align: right;\n    }\n</style>\n<table border=\"1\" class=\"dataframe\">\n  <thead>\n    <tr style=\"text-align: right;\">\n      <th></th>\n      <th></th>\n      <th></th>\n      <th>Number</th>\n    </tr>\n    <tr>\n      <th>District Name</th>\n      <th>District Name</th>\n      <th>Nationality</th>\n      <th></th>\n    </tr>\n  </thead>\n  <tbody>\n    <tr>\n      <th rowspan=\"5\" valign=\"top\">Ciutat Vella</th>\n      <th rowspan=\"5\" valign=\"top\">Ciutat Vella</th>\n      <th>Spain</th>\n      <td>2542</td>\n    </tr>\n    <tr>\n      <th>Italy</th>\n      <td>1275</td>\n    </tr>\n    <tr>\n      <th>Pakistan</th>\n      <td>998</td>\n    </tr>\n    <tr>\n      <th>France</th>\n      <td>596</td>\n    </tr>\n    <tr>\n      <th>Bangladesh</th>\n      <td>566</td>\n    </tr>\n    <tr>\n      <th>...</th>\n      <th>...</th>\n      <th>...</th>\n      <td>...</td>\n    </tr>\n    <tr>\n      <th rowspan=\"5\" valign=\"top\">Sarrià-Sant Gervasi</th>\n      <th rowspan=\"5\" valign=\"top\">Sarrià-Sant Gervasi</th>\n      <th>Venezuela</th>\n      <td>215</td>\n    </tr>\n    <tr>\n      <th>China</th>\n      <td>163</td>\n    </tr>\n    <tr>\n      <th>Colombia</th>\n      <td>128</td>\n    </tr>\n    <tr>\n      <th>United Kingdom</th>\n      <td>126</td>\n    </tr>\n    <tr>\n      <th>Russia</th>\n      <td>119</td>\n    </tr>\n  </tbody>\n</table>\n<p>91 rows × 1 columns</p>\n</div>",
      "text/plain": "                                                        Number\nDistrict Name       District Name       Nationality           \nCiutat Vella        Ciutat Vella        Spain             2542\n                                        Italy             1275\n                                        Pakistan           998\n                                        France             596\n                                        Bangladesh         566\n...                                                        ...\nSarrià-Sant Gervasi Sarrià-Sant Gervasi Venezuela          215\n                                        China              163\n                                        Colombia           128\n                                        United Kingdom     126\n                                        Russia             119\n\n[91 rows x 1 columns]"
     },
     "execution_count": 11,
     "metadata": {},
     "output_type": "execute_result"
    }
   ],
   "source": [
    "#Getting the top 9 nationalities by district\n",
    "n_l = n.groupby(level=0, group_keys=False)['Number'].apply(lambda x: x.nlargest(9))\n",
    "pd.DataFrame(n_l, index=None)"
   ]
  },
  {
   "cell_type": "code",
   "execution_count": 12,
   "metadata": {},
   "outputs": [],
   "source": [
    "#getting the total of the top 9 immigrants by district \n",
    "sum_top9= n_l.groupby(['District Name']).sum()"
   ]
  },
  {
   "cell_type": "code",
   "execution_count": 13,
   "metadata": {},
   "outputs": [],
   "source": [
    "top9=pd.DataFrame(sum_top9)"
   ]
  },
  {
   "cell_type": "code",
   "execution_count": 14,
   "metadata": {},
   "outputs": [
    {
     "data": {
      "text/html": "<div>\n<style scoped>\n    .dataframe tbody tr th:only-of-type {\n        vertical-align: middle;\n    }\n\n    .dataframe tbody tr th {\n        vertical-align: top;\n    }\n\n    .dataframe thead th {\n        text-align: right;\n    }\n</style>\n<table border=\"1\" class=\"dataframe\">\n  <thead>\n    <tr style=\"text-align: right;\">\n      <th></th>\n      <th>Number</th>\n    </tr>\n    <tr>\n      <th>District Name</th>\n      <th></th>\n    </tr>\n  </thead>\n  <tbody>\n    <tr>\n      <th>Ciutat Vella</th>\n      <td>7536</td>\n    </tr>\n    <tr>\n      <th>Eixample</th>\n      <td>12690</td>\n    </tr>\n    <tr>\n      <th>Gràcia</th>\n      <td>4819</td>\n    </tr>\n    <tr>\n      <th>Horta-Guinardó</th>\n      <td>5389</td>\n    </tr>\n    <tr>\n      <th>Les Corts</th>\n      <td>2992</td>\n    </tr>\n    <tr>\n      <th>No consta</th>\n      <td>2</td>\n    </tr>\n    <tr>\n      <th>Nou Barris</th>\n      <td>6018</td>\n    </tr>\n    <tr>\n      <th>Sant Andreu</th>\n      <td>4534</td>\n    </tr>\n    <tr>\n      <th>Sant Martí</th>\n      <td>8332</td>\n    </tr>\n    <tr>\n      <th>Sants-Montjuïc</th>\n      <td>7596</td>\n    </tr>\n    <tr>\n      <th>Sarrià-Sant Gervasi</th>\n      <td>5150</td>\n    </tr>\n  </tbody>\n</table>\n</div>",
      "text/plain": "                     Number\nDistrict Name              \nCiutat Vella           7536\nEixample              12690\nGràcia                 4819\nHorta-Guinardó         5389\nLes Corts              2992\nNo consta                 2\nNou Barris             6018\nSant Andreu            4534\nSant Martí             8332\nSants-Montjuïc         7596\nSarrià-Sant Gervasi    5150"
     },
     "execution_count": 14,
     "metadata": {},
     "output_type": "execute_result"
    }
   ],
   "source": [
    "top9"
   ]
  },
  {
   "cell_type": "code",
   "execution_count": 15,
   "metadata": {},
   "outputs": [],
   "source": [
    "# Getting the total number of nationalities by district except the top9. The data we want here is the total number of immigrants except the strongest 9 natonalities by district.\n",
    "n_others = n.groupby('District Name', group_keys=False).apply(lambda x: x.iloc[9:].sum())"
   ]
  },
  {
   "cell_type": "code",
   "execution_count": 16,
   "metadata": {},
   "outputs": [
    {
     "data": {
      "text/html": "<div>\n<style scoped>\n    .dataframe tbody tr th:only-of-type {\n        vertical-align: middle;\n    }\n\n    .dataframe tbody tr th {\n        vertical-align: top;\n    }\n\n    .dataframe thead th {\n        text-align: right;\n    }\n</style>\n<table border=\"1\" class=\"dataframe\">\n  <thead>\n    <tr style=\"text-align: right;\">\n      <th></th>\n      <th>Number</th>\n    </tr>\n    <tr>\n      <th>District Name</th>\n      <th></th>\n    </tr>\n  </thead>\n  <tbody>\n    <tr>\n      <th>Ciutat Vella</th>\n      <td>5075</td>\n    </tr>\n    <tr>\n      <th>Eixample</th>\n      <td>6357</td>\n    </tr>\n    <tr>\n      <th>Gràcia</th>\n      <td>2435</td>\n    </tr>\n    <tr>\n      <th>Horta-Guinardó</th>\n      <td>2410</td>\n    </tr>\n    <tr>\n      <th>Les Corts</th>\n      <td>1383</td>\n    </tr>\n    <tr>\n      <th>No consta</th>\n      <td>0</td>\n    </tr>\n    <tr>\n      <th>Nou Barris</th>\n      <td>2256</td>\n    </tr>\n    <tr>\n      <th>Sant Andreu</th>\n      <td>1801</td>\n    </tr>\n    <tr>\n      <th>Sant Martí</th>\n      <td>4388</td>\n    </tr>\n    <tr>\n      <th>Sants-Montjuïc</th>\n      <td>4087</td>\n    </tr>\n    <tr>\n      <th>Sarrià-Sant Gervasi</th>\n      <td>2077</td>\n    </tr>\n  </tbody>\n</table>\n</div>",
      "text/plain": "                     Number\nDistrict Name              \nCiutat Vella           5075\nEixample               6357\nGràcia                 2435\nHorta-Guinardó         2410\nLes Corts              1383\nNo consta                 0\nNou Barris             2256\nSant Andreu            1801\nSant Martí             4388\nSants-Montjuïc         4087\nSarrià-Sant Gervasi    2077"
     },
     "execution_count": 16,
     "metadata": {},
     "output_type": "execute_result"
    }
   ],
   "source": [
    "n_others"
   ]
  },
  {
   "cell_type": "code",
   "execution_count": null,
   "metadata": {
    "collapsed": true
   },
   "outputs": [],
   "source": []
  },
  {
   "cell_type": "markdown",
   "metadata": {},
   "source": [
    "## Analysis 2: immigrants by gender"
   ]
  },
  {
   "cell_type": "code",
   "execution_count": 17,
   "metadata": {},
   "outputs": [],
   "source": [
    "# Importing our csv to start analysing it:"
   ]
  },
  {
   "cell_type": "code",
   "execution_count": 18,
   "metadata": {},
   "outputs": [],
   "source": [
    "g = pd.read_csv('datasets/Cleaned Datasets/gender_cleaned.csv')"
   ]
  },
  {
   "cell_type": "code",
   "execution_count": 19,
   "metadata": {},
   "outputs": [
    {
     "data": {
      "text/html": "<div>\n<style scoped>\n    .dataframe tbody tr th:only-of-type {\n        vertical-align: middle;\n    }\n\n    .dataframe tbody tr th {\n        vertical-align: top;\n    }\n\n    .dataframe thead th {\n        text-align: right;\n    }\n</style>\n<table border=\"1\" class=\"dataframe\">\n  <thead>\n    <tr style=\"text-align: right;\">\n      <th></th>\n      <th>Unnamed: 0</th>\n      <th>Year</th>\n      <th>District Name</th>\n      <th>Gender</th>\n      <th>Immigrants</th>\n    </tr>\n  </thead>\n  <tbody>\n    <tr>\n      <th>0</th>\n      <td>0</td>\n      <td>2017</td>\n      <td>Ciutat Vella</td>\n      <td>Male</td>\n      <td>3063</td>\n    </tr>\n    <tr>\n      <th>1</th>\n      <td>1</td>\n      <td>2017</td>\n      <td>Ciutat Vella</td>\n      <td>Male</td>\n      <td>1499</td>\n    </tr>\n    <tr>\n      <th>2</th>\n      <td>2</td>\n      <td>2017</td>\n      <td>Ciutat Vella</td>\n      <td>Male</td>\n      <td>910</td>\n    </tr>\n    <tr>\n      <th>3</th>\n      <td>3</td>\n      <td>2017</td>\n      <td>Ciutat Vella</td>\n      <td>Male</td>\n      <td>1438</td>\n    </tr>\n    <tr>\n      <th>4</th>\n      <td>4</td>\n      <td>2017</td>\n      <td>Eixample</td>\n      <td>Male</td>\n      <td>1082</td>\n    </tr>\n  </tbody>\n</table>\n</div>",
      "text/plain": "   Unnamed: 0  Year District Name Gender  Immigrants\n0           0  2017  Ciutat Vella   Male        3063\n1           1  2017  Ciutat Vella   Male        1499\n2           2  2017  Ciutat Vella   Male         910\n3           3  2017  Ciutat Vella   Male        1438\n4           4  2017      Eixample   Male        1082"
     },
     "execution_count": 19,
     "metadata": {},
     "output_type": "execute_result"
    }
   ],
   "source": [
    "g.head()"
   ]
  },
  {
   "cell_type": "code",
   "execution_count": 20,
   "metadata": {},
   "outputs": [
    {
     "data": {
      "text/plain": "Unnamed: 0        int64\nYear              int64\nDistrict Name    object\nGender           object\nImmigrants        int64\ndtype: object"
     },
     "execution_count": 20,
     "metadata": {},
     "output_type": "execute_result"
    }
   ],
   "source": [
    "# We will type 'n.dtypes' to understand with which kind of data are we working\n",
    "g.dtypes"
   ]
  },
  {
   "cell_type": "code",
   "execution_count": 21,
   "metadata": {},
   "outputs": [],
   "source": [
    "#We do no need 'Unnamed: 0' and 'Year' columns, so let's drop them!\n",
    "\n",
    "g.drop(['Unnamed: 0','Year'], axis=1, inplace = True)"
   ]
  },
  {
   "cell_type": "code",
   "execution_count": 22,
   "metadata": {},
   "outputs": [
    {
     "data": {
      "text/html": "<div>\n<style scoped>\n    .dataframe tbody tr th:only-of-type {\n        vertical-align: middle;\n    }\n\n    .dataframe tbody tr th {\n        vertical-align: top;\n    }\n\n    .dataframe thead th {\n        text-align: right;\n    }\n</style>\n<table border=\"1\" class=\"dataframe\">\n  <thead>\n    <tr style=\"text-align: right;\">\n      <th></th>\n      <th>District Name</th>\n      <th>Gender</th>\n      <th>Immigrants</th>\n    </tr>\n  </thead>\n  <tbody>\n    <tr>\n      <th>0</th>\n      <td>Ciutat Vella</td>\n      <td>Male</td>\n      <td>3063</td>\n    </tr>\n    <tr>\n      <th>1</th>\n      <td>Ciutat Vella</td>\n      <td>Male</td>\n      <td>1499</td>\n    </tr>\n    <tr>\n      <th>2</th>\n      <td>Ciutat Vella</td>\n      <td>Male</td>\n      <td>910</td>\n    </tr>\n    <tr>\n      <th>3</th>\n      <td>Ciutat Vella</td>\n      <td>Male</td>\n      <td>1438</td>\n    </tr>\n    <tr>\n      <th>4</th>\n      <td>Eixample</td>\n      <td>Male</td>\n      <td>1082</td>\n    </tr>\n  </tbody>\n</table>\n</div>",
      "text/plain": "  District Name Gender  Immigrants\n0  Ciutat Vella   Male        3063\n1  Ciutat Vella   Male        1499\n2  Ciutat Vella   Male         910\n3  Ciutat Vella   Male        1438\n4      Eixample   Male        1082"
     },
     "execution_count": 22,
     "metadata": {},
     "output_type": "execute_result"
    }
   ],
   "source": [
    "g.head()"
   ]
  },
  {
   "cell_type": "code",
   "execution_count": 23,
   "metadata": {},
   "outputs": [],
   "source": [
    "#Now we need to group our data by district and gender, to see how many Females and how many Males has each District.\n",
    "\n",
    "bydis = g.groupby(['District Name','Gender']).sum()"
   ]
  },
  {
   "cell_type": "code",
   "execution_count": 24,
   "metadata": {},
   "outputs": [
    {
     "data": {
      "text/html": "<div>\n<style scoped>\n    .dataframe tbody tr th:only-of-type {\n        vertical-align: middle;\n    }\n\n    .dataframe tbody tr th {\n        vertical-align: top;\n    }\n\n    .dataframe thead th {\n        text-align: right;\n    }\n</style>\n<table border=\"1\" class=\"dataframe\">\n  <thead>\n    <tr style=\"text-align: right;\">\n      <th></th>\n      <th></th>\n      <th>Immigrants</th>\n    </tr>\n    <tr>\n      <th>District Name</th>\n      <th>Gender</th>\n      <th></th>\n    </tr>\n  </thead>\n  <tbody>\n    <tr>\n      <th rowspan=\"2\" valign=\"top\">Ciutat Vella</th>\n      <th>Female</th>\n      <td>5701</td>\n    </tr>\n    <tr>\n      <th>Male</th>\n      <td>6910</td>\n    </tr>\n    <tr>\n      <th rowspan=\"2\" valign=\"top\">Eixample</th>\n      <th>Female</th>\n      <td>9856</td>\n    </tr>\n    <tr>\n      <th>Male</th>\n      <td>9191</td>\n    </tr>\n    <tr>\n      <th rowspan=\"2\" valign=\"top\">Gràcia</th>\n      <th>Female</th>\n      <td>3895</td>\n    </tr>\n    <tr>\n      <th>Male</th>\n      <td>3359</td>\n    </tr>\n    <tr>\n      <th rowspan=\"2\" valign=\"top\">Horta-Guinardó</th>\n      <th>Female</th>\n      <td>4054</td>\n    </tr>\n    <tr>\n      <th>Male</th>\n      <td>3745</td>\n    </tr>\n    <tr>\n      <th rowspan=\"2\" valign=\"top\">Les Corts</th>\n      <th>Female</th>\n      <td>2346</td>\n    </tr>\n    <tr>\n      <th>Male</th>\n      <td>2029</td>\n    </tr>\n    <tr>\n      <th rowspan=\"2\" valign=\"top\">Nou Barris</th>\n      <th>Female</th>\n      <td>4400</td>\n    </tr>\n    <tr>\n      <th>Male</th>\n      <td>3874</td>\n    </tr>\n    <tr>\n      <th rowspan=\"2\" valign=\"top\">Sant Andreu</th>\n      <th>Female</th>\n      <td>3233</td>\n    </tr>\n    <tr>\n      <th>Male</th>\n      <td>3102</td>\n    </tr>\n    <tr>\n      <th rowspan=\"2\" valign=\"top\">Sant Martí</th>\n      <th>Female</th>\n      <td>6308</td>\n    </tr>\n    <tr>\n      <th>Male</th>\n      <td>6412</td>\n    </tr>\n    <tr>\n      <th rowspan=\"2\" valign=\"top\">Sants-Montjuïc</th>\n      <th>Female</th>\n      <td>5831</td>\n    </tr>\n    <tr>\n      <th>Male</th>\n      <td>5852</td>\n    </tr>\n    <tr>\n      <th rowspan=\"2\" valign=\"top\">Sarrià-Sant Gervasi</th>\n      <th>Female</th>\n      <td>3839</td>\n    </tr>\n    <tr>\n      <th>Male</th>\n      <td>3388</td>\n    </tr>\n  </tbody>\n</table>\n</div>",
      "text/plain": "                            Immigrants\nDistrict Name       Gender            \nCiutat Vella        Female        5701\n                    Male          6910\nEixample            Female        9856\n                    Male          9191\nGràcia              Female        3895\n                    Male          3359\nHorta-Guinardó      Female        4054\n                    Male          3745\nLes Corts           Female        2346\n                    Male          2029\nNou Barris          Female        4400\n                    Male          3874\nSant Andreu         Female        3233\n                    Male          3102\nSant Martí          Female        6308\n                    Male          6412\nSants-Montjuïc      Female        5831\n                    Male          5852\nSarrià-Sant Gervasi Female        3839\n                    Male          3388"
     },
     "execution_count": 24,
     "metadata": {},
     "output_type": "execute_result"
    }
   ],
   "source": [
    "bydis"
   ]
  },
  {
   "cell_type": "code",
   "execution_count": 25,
   "metadata": {},
   "outputs": [],
   "source": [
    "#total num of immigrants by district\n",
    "both= g.groupby(['District Name']).sum()"
   ]
  },
  {
   "cell_type": "code",
   "execution_count": 26,
   "metadata": {},
   "outputs": [
    {
     "data": {
      "text/html": "<div>\n<style scoped>\n    .dataframe tbody tr th:only-of-type {\n        vertical-align: middle;\n    }\n\n    .dataframe tbody tr th {\n        vertical-align: top;\n    }\n\n    .dataframe thead th {\n        text-align: right;\n    }\n</style>\n<table border=\"1\" class=\"dataframe\">\n  <thead>\n    <tr style=\"text-align: right;\">\n      <th></th>\n      <th>Immigrants</th>\n    </tr>\n    <tr>\n      <th>District Name</th>\n      <th></th>\n    </tr>\n  </thead>\n  <tbody>\n    <tr>\n      <th>Ciutat Vella</th>\n      <td>12611</td>\n    </tr>\n    <tr>\n      <th>Eixample</th>\n      <td>19047</td>\n    </tr>\n    <tr>\n      <th>Gràcia</th>\n      <td>7254</td>\n    </tr>\n    <tr>\n      <th>Horta-Guinardó</th>\n      <td>7799</td>\n    </tr>\n    <tr>\n      <th>Les Corts</th>\n      <td>4375</td>\n    </tr>\n    <tr>\n      <th>Nou Barris</th>\n      <td>8274</td>\n    </tr>\n    <tr>\n      <th>Sant Andreu</th>\n      <td>6335</td>\n    </tr>\n    <tr>\n      <th>Sant Martí</th>\n      <td>12720</td>\n    </tr>\n    <tr>\n      <th>Sants-Montjuïc</th>\n      <td>11683</td>\n    </tr>\n    <tr>\n      <th>Sarrià-Sant Gervasi</th>\n      <td>7227</td>\n    </tr>\n  </tbody>\n</table>\n</div>",
      "text/plain": "                     Immigrants\nDistrict Name                  \nCiutat Vella              12611\nEixample                  19047\nGràcia                     7254\nHorta-Guinardó             7799\nLes Corts                  4375\nNou Barris                 8274\nSant Andreu                6335\nSant Martí                12720\nSants-Montjuïc            11683\nSarrià-Sant Gervasi        7227"
     },
     "execution_count": 26,
     "metadata": {},
     "output_type": "execute_result"
    }
   ],
   "source": [
    "both"
   ]
  },
  {
   "cell_type": "code",
   "execution_count": 54,
   "metadata": {},
   "outputs": [],
   "source": [
    "def percentage(district):\n",
    "  males = int(bydis.loc[district, 'Male'])\n",
    "  females = int(bydis.loc[district, 'Female'])\n",
    "  m_perc = round(100 * (males / (males + females)),1)\n",
    "  f_perc = round(100 * (females / (males + females)),1)\n",
    "  return f'The immigrants in {district} are {m_perc}% males and {f_perc}% females'"
   ]
  },
  {
   "cell_type": "code",
   "execution_count": 55,
   "metadata": {},
   "outputs": [
    {
     "name": "stdout",
     "output_type": "stream",
     "text": "The immigrants in Ciutat Vella are 54.8% males and 45.2% females\nThe immigrants in Eixample are 48.3% males and 51.7% females\nThe immigrants in Gràcia are 46.3% males and 53.7% females\nThe immigrants in Horta-Guinardó are 48.0% males and 52.0% females\nThe immigrants in Les Corts are 46.4% males and 53.6% females\nThe immigrants in Nou Barris are 46.8% males and 53.2% females\nThe immigrants in Sant Andreu are 49.0% males and 51.0% females\nThe immigrants in Sant Martí are 50.4% males and 49.6% females\nThe immigrants in Sants-Montjuïc are 50.1% males and 49.9% females\nThe immigrants in Sarrià-Sant Gervasi are 46.9% males and 53.1% females\n"
    }
   ],
   "source": [
    "print(percentage('Ciutat Vella'))\n",
    "print(percentage('Eixample'))\n",
    "print(percentage('Gràcia'))\n",
    "print(percentage('Horta-Guinardó'))\n",
    "print(percentage('Les Corts'))\n",
    "print(percentage('Nou Barris'))\n",
    "print(percentage('Sant Andreu'))\n",
    "print(percentage('Sant Martí'))\n",
    "print(percentage('Sants-Montjuïc'))\n",
    "print(percentage('Sarrià-Sant Gervasi'))"
   ]
  },
  {
   "cell_type": "code",
   "execution_count": 29,
   "metadata": {},
   "outputs": [],
   "source": []
  },
  {
   "cell_type": "code",
   "execution_count": 67,
   "metadata": {},
   "outputs": [],
   "source": [
    "top10 = n.groupby('Nationality').sum().apply(lambda x: x.nlargest(10))\n"
   ]
  },
  {
   "cell_type": "code",
   "execution_count": 68,
   "metadata": {},
   "outputs": [
    {
     "data": {
      "text/html": "<div>\n<style scoped>\n    .dataframe tbody tr th:only-of-type {\n        vertical-align: middle;\n    }\n\n    .dataframe tbody tr th {\n        vertical-align: top;\n    }\n\n    .dataframe thead th {\n        text-align: right;\n    }\n</style>\n<table border=\"1\" class=\"dataframe\">\n  <thead>\n    <tr style=\"text-align: right;\">\n      <th></th>\n      <th>Number</th>\n    </tr>\n    <tr>\n      <th>Nationality</th>\n      <th></th>\n    </tr>\n  </thead>\n  <tbody>\n    <tr>\n      <th>Spain</th>\n      <td>35354</td>\n    </tr>\n    <tr>\n      <th>Italy</th>\n      <td>6309</td>\n    </tr>\n    <tr>\n      <th>China</th>\n      <td>3299</td>\n    </tr>\n    <tr>\n      <th>Colombia</th>\n      <td>3255</td>\n    </tr>\n    <tr>\n      <th>Venezuela</th>\n      <td>3021</td>\n    </tr>\n    <tr>\n      <th>Pakistan</th>\n      <td>2967</td>\n    </tr>\n    <tr>\n      <th>Honduras</th>\n      <td>2767</td>\n    </tr>\n    <tr>\n      <th>France</th>\n      <td>2670</td>\n    </tr>\n    <tr>\n      <th>Peru</th>\n      <td>2473</td>\n    </tr>\n    <tr>\n      <th>Morocco</th>\n      <td>1931</td>\n    </tr>\n  </tbody>\n</table>\n</div>",
      "text/plain": "             Number\nNationality        \nSpain         35354\nItaly          6309\nChina          3299\nColombia       3255\nVenezuela      3021\nPakistan       2967\nHonduras       2767\nFrance         2670\nPeru           2473\nMorocco        1931"
     },
     "execution_count": 68,
     "metadata": {},
     "output_type": "execute_result"
    }
   ],
   "source": [
    "top10"
   ]
  },
  {
   "cell_type": "code",
   "execution_count": 74,
   "metadata": {},
   "outputs": [],
   "source": [
    "nTop3 = n.groupby(level=0, group_keys=False)['Number'].apply(lambda x: x.nlargest(3))"
   ]
  },
  {
   "cell_type": "code",
   "execution_count": 75,
   "metadata": {},
   "outputs": [
    {
     "data": {
      "text/plain": "District Name        District Name        Nationality\nCiutat Vella         Ciutat Vella         Spain          2542\n                                          Italy          1275\n                                          Pakistan        998\nEixample             Eixample             Spain          6560\n                                          Italy          1568\n                                          China           918\nGràcia               Gràcia               Spain          2944\n                                          Italy           598\n                                          France          277\nHorta-Guinardó       Horta-Guinardó       Spain          3255\n                                          Italy           413\n                                          Honduras        365\nLes Corts            Les Corts            Spain          1955\n                                          Italy           205\n                                          Venezuela       178\nNo consta            No consta            Spain             2\nNou Barris           Nou Barris           Spain          3013\n                                          Honduras       1091\n                                          Colombia        348\nSant Andreu          Sant Andreu          Spain          2713\n                                          Peru            280\n                                          Colombia        270\nSant Martí           Sant Martí           Spain          4726\n                                          Italy           798\n                                          Pakistan        629\nSants-Montjuïc       Sants-Montjuïc       Spain          4219\n                                          Italy           684\n                                          China           512\nSarrià-Sant Gervasi  Sarrià-Sant Gervasi  Spain          3425\n                                          Italy           396\n                                          France          315\nName: Number, dtype: int64"
     },
     "execution_count": 75,
     "metadata": {},
     "output_type": "execute_result"
    }
   ],
   "source": [
    "nTop3"
   ]
  },
  {
   "cell_type": "code",
   "execution_count": null,
   "metadata": {},
   "outputs": [],
   "source": []
  }
 ],
 "metadata": {
  "kernelspec": {
   "display_name": "Python 3",
   "language": "python",
   "name": "python3"
  },
  "language_info": {
   "codemirror_mode": {
    "name": "ipython",
    "version": 3
   },
   "file_extension": ".py",
   "mimetype": "text/x-python",
   "name": "python",
   "nbconvert_exporter": "python",
   "pygments_lexer": "ipython3",
   "version": "3.6.3"
  }
 },
 "nbformat": 4,
 "nbformat_minor": 2
}