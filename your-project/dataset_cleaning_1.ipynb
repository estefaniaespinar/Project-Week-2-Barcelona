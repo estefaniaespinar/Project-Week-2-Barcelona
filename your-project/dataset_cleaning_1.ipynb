{
 "nbformat": 4,
 "nbformat_minor": 2,
 "metadata": {
  "language_info": {
   "name": "python",
   "codemirror_mode": {
    "name": "ipython",
    "version": 3
   }
  },
  "orig_nbformat": 2,
  "file_extension": ".py",
  "mimetype": "text/x-python",
  "name": "python",
  "npconvert_exporter": "python",
  "pygments_lexer": "ipython3",
  "version": 3
 },
 "cells": [
  {
   "cell_type": "markdown",
   "execution_count": 9,
   "metadata": {},
   "outputs": [],
   "source": [
    "# DATASET CLEANING"
   ]
  },
  {
   "cell_type": "code",
   "execution_count": 2,
   "metadata": {},
   "outputs": [],
   "source": [
    "import pandas as pd\n",
    "import numpy as np "
   ]
  },
  {
   "cell_type": "markdown",
   "execution_count": 13,
   "metadata": {},
   "outputs": [],
   "source": [
    "## First Dataset: Immigrants - Emigrants by Age"
   ]
  },
  {
   "cell_type": "code",
   "execution_count": 3,
   "metadata": {},
   "outputs": [],
   "source": [
    "# first we import the csv file as a dataset called i_by_age\n",
    "i_by_age = pd.read_csv('datasets/3.-Population/immigrants-emigrants-by-age.csv')"
   ]
  },
  {
   "cell_type": "code",
   "execution_count": 4,
   "metadata": {},
   "outputs": [
    {
     "data": {
      "text/plain": "Year                  int64\nDistrict Code         int64\nDistrict Name        object\nNeighborhood Code     int64\nNeighborhood Name    object\nAge                  object\nImmigrants            int64\nEmigrants             int64\ndtype: object"
     },
     "execution_count": 4,
     "metadata": {},
     "output_type": "execute_result"
    }
   ],
   "source": [
    "# we check the datatypes\n",
    "i_by_age.dtypes "
   ]
  },
  {
   "cell_type": "code",
   "execution_count": 5,
   "metadata": {},
   "outputs": [
    {
     "data": {
      "text/html": "<div>\n<style scoped>\n    .dataframe tbody tr th:only-of-type {\n        vertical-align: middle;\n    }\n\n    .dataframe tbody tr th {\n        vertical-align: top;\n    }\n\n    .dataframe thead th {\n        text-align: right;\n    }\n</style>\n<table border=\"1\" class=\"dataframe\">\n  <thead>\n    <tr style=\"text-align: right;\">\n      <th></th>\n      <th>Year</th>\n      <th>District Code</th>\n      <th>District Name</th>\n      <th>Neighborhood Code</th>\n      <th>Neighborhood Name</th>\n      <th>Age</th>\n      <th>Immigrants</th>\n      <th>Emigrants</th>\n    </tr>\n  </thead>\n  <tbody>\n    <tr>\n      <th>0</th>\n      <td>2017</td>\n      <td>1</td>\n      <td>Ciutat Vella</td>\n      <td>1</td>\n      <td>el Raval</td>\n      <td>0-4</td>\n      <td>154</td>\n      <td>108</td>\n    </tr>\n    <tr>\n      <th>1</th>\n      <td>2017</td>\n      <td>1</td>\n      <td>Ciutat Vella</td>\n      <td>2</td>\n      <td>el Barri Gòtic</td>\n      <td>0-4</td>\n      <td>58</td>\n      <td>33</td>\n    </tr>\n    <tr>\n      <th>2</th>\n      <td>2017</td>\n      <td>1</td>\n      <td>Ciutat Vella</td>\n      <td>3</td>\n      <td>la Barceloneta</td>\n      <td>0-4</td>\n      <td>38</td>\n      <td>37</td>\n    </tr>\n    <tr>\n      <th>3</th>\n      <td>2017</td>\n      <td>1</td>\n      <td>Ciutat Vella</td>\n      <td>4</td>\n      <td>Sant Pere, Santa Caterina i la Ribera</td>\n      <td>0-4</td>\n      <td>56</td>\n      <td>55</td>\n    </tr>\n    <tr>\n      <th>4</th>\n      <td>2017</td>\n      <td>2</td>\n      <td>Eixample</td>\n      <td>5</td>\n      <td>el Fort Pienc</td>\n      <td>0-4</td>\n      <td>79</td>\n      <td>60</td>\n    </tr>\n    <tr>\n      <th>...</th>\n      <td>...</td>\n      <td>...</td>\n      <td>...</td>\n      <td>...</td>\n      <td>...</td>\n      <td>...</td>\n      <td>...</td>\n      <td>...</td>\n    </tr>\n    <tr>\n      <th>4657</th>\n      <td>2015</td>\n      <td>10</td>\n      <td>Sant Martí</td>\n      <td>70</td>\n      <td>el Besòs i el Maresme</td>\n      <td>&gt;=100</td>\n      <td>0</td>\n      <td>1</td>\n    </tr>\n    <tr>\n      <th>4658</th>\n      <td>2015</td>\n      <td>10</td>\n      <td>Sant Martí</td>\n      <td>71</td>\n      <td>Provençals del Poblenou</td>\n      <td>&gt;=100</td>\n      <td>0</td>\n      <td>0</td>\n    </tr>\n    <tr>\n      <th>4659</th>\n      <td>2015</td>\n      <td>10</td>\n      <td>Sant Martí</td>\n      <td>72</td>\n      <td>Sant Martí de Provençals</td>\n      <td>&gt;=100</td>\n      <td>0</td>\n      <td>0</td>\n    </tr>\n    <tr>\n      <th>4660</th>\n      <td>2015</td>\n      <td>10</td>\n      <td>Sant Martí</td>\n      <td>73</td>\n      <td>la Verneda i la Pau</td>\n      <td>&gt;=100</td>\n      <td>0</td>\n      <td>0</td>\n    </tr>\n    <tr>\n      <th>4661</th>\n      <td>2015</td>\n      <td>99</td>\n      <td>No consta</td>\n      <td>99</td>\n      <td>No consta</td>\n      <td>&gt;=100</td>\n      <td>0</td>\n      <td>0</td>\n    </tr>\n  </tbody>\n</table>\n<p>4662 rows × 8 columns</p>\n</div>",
      "text/plain": "      Year  District Code District Name  Neighborhood Code  \\\n0     2017              1  Ciutat Vella                  1   \n1     2017              1  Ciutat Vella                  2   \n2     2017              1  Ciutat Vella                  3   \n3     2017              1  Ciutat Vella                  4   \n4     2017              2      Eixample                  5   \n...    ...            ...           ...                ...   \n4657  2015             10    Sant Martí                 70   \n4658  2015             10    Sant Martí                 71   \n4659  2015             10    Sant Martí                 72   \n4660  2015             10    Sant Martí                 73   \n4661  2015             99     No consta                 99   \n\n                          Neighborhood Name    Age  Immigrants  Emigrants  \n0                                  el Raval    0-4         154        108  \n1                            el Barri Gòtic    0-4          58         33  \n2                            la Barceloneta    0-4          38         37  \n3     Sant Pere, Santa Caterina i la Ribera    0-4          56         55  \n4                             el Fort Pienc    0-4          79         60  \n...                                     ...    ...         ...        ...  \n4657                  el Besòs i el Maresme  >=100           0          1  \n4658                Provençals del Poblenou  >=100           0          0  \n4659               Sant Martí de Provençals  >=100           0          0  \n4660                    la Verneda i la Pau  >=100           0          0  \n4661                              No consta  >=100           0          0  \n\n[4662 rows x 8 columns]"
     },
     "execution_count": 5,
     "metadata": {},
     "output_type": "execute_result"
    }
   ],
   "source": [
    "# and we check how is our dataset\n",
    "i_by_age"
   ]
  },
  {
   "cell_type": "code",
   "execution_count": 6,
   "metadata": {},
   "outputs": [
    {
     "data": {
      "text/html": "<div>\n<style scoped>\n    .dataframe tbody tr th:only-of-type {\n        vertical-align: middle;\n    }\n\n    .dataframe tbody tr th {\n        vertical-align: top;\n    }\n\n    .dataframe thead th {\n        text-align: right;\n    }\n</style>\n<table border=\"1\" class=\"dataframe\">\n  <thead>\n    <tr style=\"text-align: right;\">\n      <th></th>\n      <th>Year</th>\n      <th>District Name</th>\n      <th>Age</th>\n      <th>Immigrants</th>\n    </tr>\n  </thead>\n  <tbody>\n    <tr>\n      <th>0</th>\n      <td>2017</td>\n      <td>Ciutat Vella</td>\n      <td>0-4</td>\n      <td>154</td>\n    </tr>\n    <tr>\n      <th>1</th>\n      <td>2017</td>\n      <td>Ciutat Vella</td>\n      <td>0-4</td>\n      <td>58</td>\n    </tr>\n    <tr>\n      <th>2</th>\n      <td>2017</td>\n      <td>Ciutat Vella</td>\n      <td>0-4</td>\n      <td>38</td>\n    </tr>\n    <tr>\n      <th>3</th>\n      <td>2017</td>\n      <td>Ciutat Vella</td>\n      <td>0-4</td>\n      <td>56</td>\n    </tr>\n    <tr>\n      <th>4</th>\n      <td>2017</td>\n      <td>Eixample</td>\n      <td>0-4</td>\n      <td>79</td>\n    </tr>\n    <tr>\n      <th>...</th>\n      <td>...</td>\n      <td>...</td>\n      <td>...</td>\n      <td>...</td>\n    </tr>\n    <tr>\n      <th>1549</th>\n      <td>2017</td>\n      <td>Sant Martí</td>\n      <td>&gt;=100</td>\n      <td>0</td>\n    </tr>\n    <tr>\n      <th>1550</th>\n      <td>2017</td>\n      <td>Sant Martí</td>\n      <td>&gt;=100</td>\n      <td>0</td>\n    </tr>\n    <tr>\n      <th>1551</th>\n      <td>2017</td>\n      <td>Sant Martí</td>\n      <td>&gt;=100</td>\n      <td>0</td>\n    </tr>\n    <tr>\n      <th>1552</th>\n      <td>2017</td>\n      <td>Sant Martí</td>\n      <td>&gt;=100</td>\n      <td>0</td>\n    </tr>\n    <tr>\n      <th>1553</th>\n      <td>2017</td>\n      <td>No consta</td>\n      <td>&gt;=100</td>\n      <td>0</td>\n    </tr>\n  </tbody>\n</table>\n<p>1554 rows × 4 columns</p>\n</div>",
      "text/plain": "      Year District Name    Age  Immigrants\n0     2017  Ciutat Vella    0-4         154\n1     2017  Ciutat Vella    0-4          58\n2     2017  Ciutat Vella    0-4          38\n3     2017  Ciutat Vella    0-4          56\n4     2017      Eixample    0-4          79\n...    ...           ...    ...         ...\n1549  2017    Sant Martí  >=100           0\n1550  2017    Sant Martí  >=100           0\n1551  2017    Sant Martí  >=100           0\n1552  2017    Sant Martí  >=100           0\n1553  2017     No consta  >=100           0\n\n[1554 rows x 4 columns]"
     },
     "execution_count": 6,
     "metadata": {},
     "output_type": "execute_result"
    }
   ],
   "source": [
    "# We will focus on immigrants by District and Age in Year 2017, so we will delete the columns District Code, Neighborhood Code, Neighborhoode Name and Emigrants\n",
    "\n",
    "i_by_age.loc[i_by_age.Year == 2017, ['Year', 'District Name', 'Age', 'Immigrants']]"
   ]
  },
  {
   "cell_type": "code",
   "execution_count": 7,
   "metadata": {},
   "outputs": [],
   "source": [
    "# As we have the dataset as we want, we can export to a new csv file. Altough we selected all 2017 rows and we could remove this column, we are keeping it as a note for future readings.\n",
    "\n",
    "i_by_age.loc[i_by_age.Year == 2017, ['Year', 'District Name', 'Age', 'Immigrants']].to_csv('datasets/3.-Population/immigrants-by-age_cleaned.csv')"
   ]
  },
  {
   "cell_type": "markdown",
   "execution_count": 119,
   "metadata": {},
   "outputs": [],
   "source": [
    "## Second Dataset: Population"
   ]
  },
  {
   "cell_type": "code",
   "execution_count": 8,
   "metadata": {},
   "outputs": [],
   "source": [
    "# we import the csv file as a dataset called i_by_age\n",
    "population = pd.read_csv('datasets/3.-Population/population.csv')"
   ]
  },
  {
   "cell_type": "code",
   "execution_count": 9,
   "metadata": {},
   "outputs": [
    {
     "data": {
      "text/plain": "Year                  int64\nDistrict.Code         int64\nDistrict.Name        object\nNeighborhood.Code     int64\nNeighborhood.Name    object\nGender               object\nAge                  object\nNumber                int64\ndtype: object"
     },
     "execution_count": 9,
     "metadata": {},
     "output_type": "execute_result"
    }
   ],
   "source": [
    "# we check the datatypes\n",
    "population.dtypes "
   ]
  },
  {
   "cell_type": "code",
   "execution_count": 10,
   "metadata": {},
   "outputs": [
    {
     "data": {
      "text/html": "<div>\n<style scoped>\n    .dataframe tbody tr th:only-of-type {\n        vertical-align: middle;\n    }\n\n    .dataframe tbody tr th {\n        vertical-align: top;\n    }\n\n    .dataframe thead th {\n        text-align: right;\n    }\n</style>\n<table border=\"1\" class=\"dataframe\">\n  <thead>\n    <tr style=\"text-align: right;\">\n      <th></th>\n      <th>Year</th>\n      <th>District.Code</th>\n      <th>District.Name</th>\n      <th>Neighborhood.Code</th>\n      <th>Neighborhood.Name</th>\n      <th>Gender</th>\n      <th>Age</th>\n      <th>Number</th>\n    </tr>\n  </thead>\n  <tbody>\n    <tr>\n      <th>0</th>\n      <td>2017</td>\n      <td>1</td>\n      <td>Ciutat Vella</td>\n      <td>1</td>\n      <td>el Raval</td>\n      <td>Male</td>\n      <td>0-4</td>\n      <td>224</td>\n    </tr>\n    <tr>\n      <th>1</th>\n      <td>2017</td>\n      <td>1</td>\n      <td>Ciutat Vella</td>\n      <td>2</td>\n      <td>el Barri Gòtic</td>\n      <td>Male</td>\n      <td>0-4</td>\n      <td>50</td>\n    </tr>\n    <tr>\n      <th>2</th>\n      <td>2017</td>\n      <td>1</td>\n      <td>Ciutat Vella</td>\n      <td>3</td>\n      <td>la Barceloneta</td>\n      <td>Male</td>\n      <td>0-4</td>\n      <td>43</td>\n    </tr>\n    <tr>\n      <th>3</th>\n      <td>2017</td>\n      <td>1</td>\n      <td>Ciutat Vella</td>\n      <td>4</td>\n      <td>Sant Pere, Santa Caterina i la Ribera</td>\n      <td>Male</td>\n      <td>0-4</td>\n      <td>95</td>\n    </tr>\n    <tr>\n      <th>4</th>\n      <td>2017</td>\n      <td>2</td>\n      <td>Eixample</td>\n      <td>5</td>\n      <td>el Fort Pienc</td>\n      <td>Male</td>\n      <td>0-4</td>\n      <td>124</td>\n    </tr>\n    <tr>\n      <th>...</th>\n      <td>...</td>\n      <td>...</td>\n      <td>...</td>\n      <td>...</td>\n      <td>...</td>\n      <td>...</td>\n      <td>...</td>\n      <td>...</td>\n    </tr>\n    <tr>\n      <th>70075</th>\n      <td>2013</td>\n      <td>10</td>\n      <td>Sant Martí</td>\n      <td>69</td>\n      <td>Diagonal Mar i el Front Marítim del Poblenou</td>\n      <td>Female</td>\n      <td>&gt;=95</td>\n      <td>21</td>\n    </tr>\n    <tr>\n      <th>70076</th>\n      <td>2013</td>\n      <td>10</td>\n      <td>Sant Martí</td>\n      <td>70</td>\n      <td>el Besòs i el Maresme</td>\n      <td>Female</td>\n      <td>&gt;=95</td>\n      <td>25</td>\n    </tr>\n    <tr>\n      <th>70077</th>\n      <td>2013</td>\n      <td>10</td>\n      <td>Sant Martí</td>\n      <td>71</td>\n      <td>Provençals del Poblenou</td>\n      <td>Female</td>\n      <td>&gt;=95</td>\n      <td>31</td>\n    </tr>\n    <tr>\n      <th>70078</th>\n      <td>2013</td>\n      <td>10</td>\n      <td>Sant Martí</td>\n      <td>72</td>\n      <td>Sant Martí de Provençals</td>\n      <td>Female</td>\n      <td>&gt;=95</td>\n      <td>38</td>\n    </tr>\n    <tr>\n      <th>70079</th>\n      <td>2013</td>\n      <td>10</td>\n      <td>Sant Martí</td>\n      <td>73</td>\n      <td>la Verneda i la Pau</td>\n      <td>Female</td>\n      <td>&gt;=95</td>\n      <td>47</td>\n    </tr>\n  </tbody>\n</table>\n<p>70080 rows × 8 columns</p>\n</div>",
      "text/plain": "       Year  District.Code District.Name  Neighborhood.Code  \\\n0      2017              1  Ciutat Vella                  1   \n1      2017              1  Ciutat Vella                  2   \n2      2017              1  Ciutat Vella                  3   \n3      2017              1  Ciutat Vella                  4   \n4      2017              2      Eixample                  5   \n...     ...            ...           ...                ...   \n70075  2013             10    Sant Martí                 69   \n70076  2013             10    Sant Martí                 70   \n70077  2013             10    Sant Martí                 71   \n70078  2013             10    Sant Martí                 72   \n70079  2013             10    Sant Martí                 73   \n\n                                  Neighborhood.Name  Gender   Age  Number  \n0                                          el Raval    Male   0-4     224  \n1                                    el Barri Gòtic    Male   0-4      50  \n2                                    la Barceloneta    Male   0-4      43  \n3             Sant Pere, Santa Caterina i la Ribera    Male   0-4      95  \n4                                     el Fort Pienc    Male   0-4     124  \n...                                             ...     ...   ...     ...  \n70075  Diagonal Mar i el Front Marítim del Poblenou  Female  >=95      21  \n70076                         el Besòs i el Maresme  Female  >=95      25  \n70077                       Provençals del Poblenou  Female  >=95      31  \n70078                      Sant Martí de Provençals  Female  >=95      38  \n70079                           la Verneda i la Pau  Female  >=95      47  \n\n[70080 rows x 8 columns]"
     },
     "execution_count": 10,
     "metadata": {},
     "output_type": "execute_result"
    }
   ],
   "source": [
    "# and we check how is our dataset\n",
    "population"
   ]
  },
  {
   "cell_type": "code",
   "execution_count": 11,
   "metadata": {},
   "outputs": [
    {
     "data": {
      "text/html": "<div>\n<style scoped>\n    .dataframe tbody tr th:only-of-type {\n        vertical-align: middle;\n    }\n\n    .dataframe tbody tr th {\n        vertical-align: top;\n    }\n\n    .dataframe thead th {\n        text-align: right;\n    }\n</style>\n<table border=\"1\" class=\"dataframe\">\n  <thead>\n    <tr style=\"text-align: right;\">\n      <th></th>\n      <th>Year</th>\n      <th>District.Name</th>\n      <th>Gender</th>\n      <th>Age</th>\n      <th>Number</th>\n    </tr>\n  </thead>\n  <tbody>\n    <tr>\n      <th>0</th>\n      <td>2017</td>\n      <td>Ciutat Vella</td>\n      <td>Male</td>\n      <td>0-4</td>\n      <td>224</td>\n    </tr>\n    <tr>\n      <th>1</th>\n      <td>2017</td>\n      <td>Ciutat Vella</td>\n      <td>Male</td>\n      <td>0-4</td>\n      <td>50</td>\n    </tr>\n    <tr>\n      <th>2</th>\n      <td>2017</td>\n      <td>Ciutat Vella</td>\n      <td>Male</td>\n      <td>0-4</td>\n      <td>43</td>\n    </tr>\n    <tr>\n      <th>3</th>\n      <td>2017</td>\n      <td>Ciutat Vella</td>\n      <td>Male</td>\n      <td>0-4</td>\n      <td>95</td>\n    </tr>\n    <tr>\n      <th>4</th>\n      <td>2017</td>\n      <td>Eixample</td>\n      <td>Male</td>\n      <td>0-4</td>\n      <td>124</td>\n    </tr>\n    <tr>\n      <th>...</th>\n      <td>...</td>\n      <td>...</td>\n      <td>...</td>\n      <td>...</td>\n      <td>...</td>\n    </tr>\n    <tr>\n      <th>14011</th>\n      <td>2017</td>\n      <td>Sant Martí</td>\n      <td>Female</td>\n      <td>&gt;=95</td>\n      <td>11</td>\n    </tr>\n    <tr>\n      <th>14012</th>\n      <td>2017</td>\n      <td>Sant Martí</td>\n      <td>Female</td>\n      <td>&gt;=95</td>\n      <td>41</td>\n    </tr>\n    <tr>\n      <th>14013</th>\n      <td>2017</td>\n      <td>Sant Martí</td>\n      <td>Female</td>\n      <td>&gt;=95</td>\n      <td>28</td>\n    </tr>\n    <tr>\n      <th>14014</th>\n      <td>2017</td>\n      <td>Sant Martí</td>\n      <td>Female</td>\n      <td>&gt;=95</td>\n      <td>57</td>\n    </tr>\n    <tr>\n      <th>14015</th>\n      <td>2017</td>\n      <td>Sant Martí</td>\n      <td>Female</td>\n      <td>&gt;=95</td>\n      <td>54</td>\n    </tr>\n  </tbody>\n</table>\n<p>14016 rows × 5 columns</p>\n</div>",
      "text/plain": "       Year District.Name  Gender   Age  Number\n0      2017  Ciutat Vella    Male   0-4     224\n1      2017  Ciutat Vella    Male   0-4      50\n2      2017  Ciutat Vella    Male   0-4      43\n3      2017  Ciutat Vella    Male   0-4      95\n4      2017      Eixample    Male   0-4     124\n...     ...           ...     ...   ...     ...\n14011  2017    Sant Martí  Female  >=95      11\n14012  2017    Sant Martí  Female  >=95      41\n14013  2017    Sant Martí  Female  >=95      28\n14014  2017    Sant Martí  Female  >=95      57\n14015  2017    Sant Martí  Female  >=95      54\n\n[14016 rows x 5 columns]"
     },
     "execution_count": 11,
     "metadata": {},
     "output_type": "execute_result"
    }
   ],
   "source": [
    "# We will focus on the population by District, Gender and Age in Year 2017, so we will delete the columns District.Code, Neighborhood.Code and Neighborhoode.Name\n",
    "\n",
    "population.loc[population.Year == 2017, ['Year', 'District.Name', 'Gender', 'Age', 'Number']]"
   ]
  },
  {
   "cell_type": "code",
   "execution_count": 13,
   "metadata": {},
   "outputs": [],
   "source": [
    "# As we have the dataset as we want, we can export to a new csv file. Altough we selected all 2017 rows and we could remove this column, we are keeping it as a note for future readings.\n",
    "\n",
    "population.loc[population.Year == 2017, ['Year', 'District.Name', 'Gender', 'Age', 'Number']].to_csv('datasets/3.-Population/population_cleaned.csv')"
   ]
  },
  {
   "cell_type": "code",
   "execution_count": 53,
   "metadata": {},
   "outputs": [],
   "source": []
  }
 ]
}