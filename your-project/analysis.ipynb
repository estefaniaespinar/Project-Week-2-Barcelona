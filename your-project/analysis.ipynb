{
 "nbformat": 4,
 "nbformat_minor": 2,
 "metadata": {
  "language_info": {
   "name": "python",
   "codemirror_mode": {
    "name": "ipython",
    "version": 3
   }
  },
  "orig_nbformat": 2,
  "file_extension": ".py",
  "mimetype": "text/x-python",
  "name": "python",
  "npconvert_exporter": "python",
  "pygments_lexer": "ipython3",
  "version": 3
 },
 "cells": [
  {
   "cell_type": "markdown",
   "execution_count": 2,
   "metadata": {},
   "outputs": [],
   "source": [
    "# ANALYSIS"
   ]
  },
  {
   "cell_type": "markdown",
   "execution_count": null,
   "metadata": {},
   "outputs": [],
   "source": [
    "## Question to be answered\n",
    "\n",
    "We want to answer the question: How are the immigrants in Barcelona in each District?\n",
    "\n",
    "To answer that we will focus on:\n",
    "- Immigrants in Barcelona by Age and District\n",
    "- Immigrants in Barcelona by Gender and District\n",
    "- Immigrants in Barcelona by Nationality and District\n",
    "\n",
    "And after that, we will compare this data with the population of Barcelona by District"
   ]
  },
  {
   "cell_type": "markdown",
   "execution_count": null,
   "metadata": {},
   "outputs": [],
   "source": [
    "## First approach: Immigrants in Barcelona by Age and District"
   ]
  },
  {
   "cell_type": "code",
   "execution_count": 3,
   "metadata": {},
   "outputs": [],
   "source": [
    "import pandas as pd\n",
    "import numpy as np "
   ]
  },
  {
   "cell_type": "code",
   "execution_count": 6,
   "metadata": {},
   "outputs": [],
   "source": [
    "i_by_age = pd.read_csv('datasets/3.-Population/immigrants-by-age_cleaned.csv')"
   ]
  },
  {
   "cell_type": "code",
   "execution_count": 7,
   "metadata": {},
   "outputs": [
    {
     "data": {
      "text/html": "<div>\n<style scoped>\n    .dataframe tbody tr th:only-of-type {\n        vertical-align: middle;\n    }\n\n    .dataframe tbody tr th {\n        vertical-align: top;\n    }\n\n    .dataframe thead th {\n        text-align: right;\n    }\n</style>\n<table border=\"1\" class=\"dataframe\">\n  <thead>\n    <tr style=\"text-align: right;\">\n      <th></th>\n      <th>Unnamed: 0</th>\n      <th>Year</th>\n      <th>District Name</th>\n      <th>Age</th>\n      <th>Immigrants</th>\n    </tr>\n  </thead>\n  <tbody>\n    <tr>\n      <th>0</th>\n      <td>0</td>\n      <td>2017</td>\n      <td>Ciutat Vella</td>\n      <td>0-4</td>\n      <td>154</td>\n    </tr>\n    <tr>\n      <th>1</th>\n      <td>1</td>\n      <td>2017</td>\n      <td>Ciutat Vella</td>\n      <td>0-4</td>\n      <td>58</td>\n    </tr>\n    <tr>\n      <th>2</th>\n      <td>2</td>\n      <td>2017</td>\n      <td>Ciutat Vella</td>\n      <td>0-4</td>\n      <td>38</td>\n    </tr>\n    <tr>\n      <th>3</th>\n      <td>3</td>\n      <td>2017</td>\n      <td>Ciutat Vella</td>\n      <td>0-4</td>\n      <td>56</td>\n    </tr>\n    <tr>\n      <th>4</th>\n      <td>4</td>\n      <td>2017</td>\n      <td>Eixample</td>\n      <td>0-4</td>\n      <td>79</td>\n    </tr>\n    <tr>\n      <th>...</th>\n      <td>...</td>\n      <td>...</td>\n      <td>...</td>\n      <td>...</td>\n      <td>...</td>\n    </tr>\n    <tr>\n      <th>1549</th>\n      <td>1549</td>\n      <td>2017</td>\n      <td>Sant Martí</td>\n      <td>&gt;=100</td>\n      <td>0</td>\n    </tr>\n    <tr>\n      <th>1550</th>\n      <td>1550</td>\n      <td>2017</td>\n      <td>Sant Martí</td>\n      <td>&gt;=100</td>\n      <td>0</td>\n    </tr>\n    <tr>\n      <th>1551</th>\n      <td>1551</td>\n      <td>2017</td>\n      <td>Sant Martí</td>\n      <td>&gt;=100</td>\n      <td>0</td>\n    </tr>\n    <tr>\n      <th>1552</th>\n      <td>1552</td>\n      <td>2017</td>\n      <td>Sant Martí</td>\n      <td>&gt;=100</td>\n      <td>0</td>\n    </tr>\n    <tr>\n      <th>1553</th>\n      <td>1553</td>\n      <td>2017</td>\n      <td>No consta</td>\n      <td>&gt;=100</td>\n      <td>0</td>\n    </tr>\n  </tbody>\n</table>\n<p>1554 rows × 5 columns</p>\n</div>",
      "text/plain": "      Unnamed: 0  Year District Name    Age  Immigrants\n0              0  2017  Ciutat Vella    0-4         154\n1              1  2017  Ciutat Vella    0-4          58\n2              2  2017  Ciutat Vella    0-4          38\n3              3  2017  Ciutat Vella    0-4          56\n4              4  2017      Eixample    0-4          79\n...          ...   ...           ...    ...         ...\n1549        1549  2017    Sant Martí  >=100           0\n1550        1550  2017    Sant Martí  >=100           0\n1551        1551  2017    Sant Martí  >=100           0\n1552        1552  2017    Sant Martí  >=100           0\n1553        1553  2017     No consta  >=100           0\n\n[1554 rows x 5 columns]"
     },
     "execution_count": 7,
     "metadata": {},
     "output_type": "execute_result"
    }
   ],
   "source": [
    "i_by_age"
   ]
  },
  {
   "cell_type": "code",
   "execution_count": null,
   "metadata": {},
   "outputs": [],
   "source": []
  }
 ]
}