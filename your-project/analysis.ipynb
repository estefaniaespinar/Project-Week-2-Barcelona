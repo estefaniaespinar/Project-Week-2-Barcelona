{
 "nbformat": 4,
 "nbformat_minor": 2,
 "metadata": {
  "language_info": {
   "name": "python",
   "codemirror_mode": {
    "name": "ipython",
    "version": 3
   }
  },
  "orig_nbformat": 2,
  "file_extension": ".py",
  "mimetype": "text/x-python",
  "name": "python",
  "npconvert_exporter": "python",
  "pygments_lexer": "ipython3",
  "version": 3
 },
 "cells": [
  {
   "cell_type": "markdown",
   "execution_count": 2,
   "metadata": {},
   "outputs": [],
   "source": [
    "# ANALYSIS"
   ]
  },
  {
   "cell_type": "markdown",
   "execution_count": null,
   "metadata": {},
   "outputs": [],
   "source": [
    "## Question to be answered\n",
    "\n",
    "We want to answer the question: How are the immigrants in Barcelona in each District?\n",
    "\n",
    "To answer that we will focus on:\n",
    "- Immigrants in Barcelona by Age and District (2017)\n",
    "- Immigrants in Barcelona by Gender and District (2017)\n",
    "- Immigrants in Barcelona by Nationality and District (2017)\n",
    "\n",
    "And after that, we will compare this data with the population of Barcelona by District (2017)"
   ]
  },
  {
   "cell_type": "markdown",
   "execution_count": null,
   "metadata": {},
   "outputs": [],
   "source": [
    "## First approach: Immigrants in Barcelona by Age and District"
   ]
  },
  {
   "cell_type": "code",
   "execution_count": 3,
   "metadata": {},
   "outputs": [],
   "source": [
    "import pandas as pd\n",
    "import numpy as np "
   ]
  },
  {
   "cell_type": "code",
   "execution_count": 6,
   "metadata": {},
   "outputs": [],
   "source": [
    "i_by_age = pd.read_csv('datasets/3.-Population/immigrants-by-age_cleaned.csv')"
   ]
  },
  {
   "cell_type": "code",
   "execution_count": 7,
   "metadata": {},
   "outputs": [
    {
     "data": {
      "text/html": "<div>\n<style scoped>\n    .dataframe tbody tr th:only-of-type {\n        vertical-align: middle;\n    }\n\n    .dataframe tbody tr th {\n        vertical-align: top;\n    }\n\n    .dataframe thead th {\n        text-align: right;\n    }\n</style>\n<table border=\"1\" class=\"dataframe\">\n  <thead>\n    <tr style=\"text-align: right;\">\n      <th></th>\n      <th>Unnamed: 0</th>\n      <th>Year</th>\n      <th>District Name</th>\n      <th>Age</th>\n      <th>Immigrants</th>\n    </tr>\n  </thead>\n  <tbody>\n    <tr>\n      <th>0</th>\n      <td>0</td>\n      <td>2017</td>\n      <td>Ciutat Vella</td>\n      <td>0-4</td>\n      <td>154</td>\n    </tr>\n    <tr>\n      <th>1</th>\n      <td>1</td>\n      <td>2017</td>\n      <td>Ciutat Vella</td>\n      <td>0-4</td>\n      <td>58</td>\n    </tr>\n    <tr>\n      <th>2</th>\n      <td>2</td>\n      <td>2017</td>\n      <td>Ciutat Vella</td>\n      <td>0-4</td>\n      <td>38</td>\n    </tr>\n    <tr>\n      <th>3</th>\n      <td>3</td>\n      <td>2017</td>\n      <td>Ciutat Vella</td>\n      <td>0-4</td>\n      <td>56</td>\n    </tr>\n    <tr>\n      <th>4</th>\n      <td>4</td>\n      <td>2017</td>\n      <td>Eixample</td>\n      <td>0-4</td>\n      <td>79</td>\n    </tr>\n    <tr>\n      <th>...</th>\n      <td>...</td>\n      <td>...</td>\n      <td>...</td>\n      <td>...</td>\n      <td>...</td>\n    </tr>\n    <tr>\n      <th>1549</th>\n      <td>1549</td>\n      <td>2017</td>\n      <td>Sant Martí</td>\n      <td>&gt;=100</td>\n      <td>0</td>\n    </tr>\n    <tr>\n      <th>1550</th>\n      <td>1550</td>\n      <td>2017</td>\n      <td>Sant Martí</td>\n      <td>&gt;=100</td>\n      <td>0</td>\n    </tr>\n    <tr>\n      <th>1551</th>\n      <td>1551</td>\n      <td>2017</td>\n      <td>Sant Martí</td>\n      <td>&gt;=100</td>\n      <td>0</td>\n    </tr>\n    <tr>\n      <th>1552</th>\n      <td>1552</td>\n      <td>2017</td>\n      <td>Sant Martí</td>\n      <td>&gt;=100</td>\n      <td>0</td>\n    </tr>\n    <tr>\n      <th>1553</th>\n      <td>1553</td>\n      <td>2017</td>\n      <td>No consta</td>\n      <td>&gt;=100</td>\n      <td>0</td>\n    </tr>\n  </tbody>\n</table>\n<p>1554 rows × 5 columns</p>\n</div>",
      "text/plain": "      Unnamed: 0  Year District Name    Age  Immigrants\n0              0  2017  Ciutat Vella    0-4         154\n1              1  2017  Ciutat Vella    0-4          58\n2              2  2017  Ciutat Vella    0-4          38\n3              3  2017  Ciutat Vella    0-4          56\n4              4  2017      Eixample    0-4          79\n...          ...   ...           ...    ...         ...\n1549        1549  2017    Sant Martí  >=100           0\n1550        1550  2017    Sant Martí  >=100           0\n1551        1551  2017    Sant Martí  >=100           0\n1552        1552  2017    Sant Martí  >=100           0\n1553        1553  2017     No consta  >=100           0\n\n[1554 rows x 5 columns]"
     },
     "execution_count": 7,
     "metadata": {},
     "output_type": "execute_result"
    }
   ],
   "source": [
    "i_by_age"
   ]
  },
  {
   "cell_type": "code",
   "execution_count": 9,
   "metadata": {},
   "outputs": [],
   "source": [
    "# as for the analysis we don't need the column year neither the index, we will drop them. \n",
    "\n",
    "i_by_age.drop(['Unnamed: 0', 'Year'], axis=1, inplace=True)"
   ]
  },
  {
   "cell_type": "code",
   "execution_count": 25,
   "metadata": {},
   "outputs": [],
   "source": [
    "# We are changing the name of the columns to avoid white spaces\n",
    "i_by_age.columns = ['District', 'Age', 'Num_Immigrants']"
   ]
  },
  {
   "cell_type": "code",
   "execution_count": 26,
   "metadata": {},
   "outputs": [
    {
     "data": {
      "text/plain": "array(['Ciutat Vella', 'Eixample', 'Sants-Montjuïc', 'Les Corts',\n       'Sarrià-Sant Gervasi', 'Gràcia', 'Horta-Guinardó', 'Nou Barris',\n       'Sant Andreu', 'Sant Martí', 'No consta'], dtype=object)"
     },
     "execution_count": 26,
     "metadata": {},
     "output_type": "execute_result"
    }
   ],
   "source": [
    "# We are checking the unique values for the column 'District' to be sure there are no surprises.\n",
    "i_by_age.District.unique()"
   ]
  },
  {
   "cell_type": "code",
   "execution_count": 28,
   "metadata": {},
   "outputs": [
    {
     "data": {
      "text/html": "<div>\n<style scoped>\n    .dataframe tbody tr th:only-of-type {\n        vertical-align: middle;\n    }\n\n    .dataframe tbody tr th {\n        vertical-align: top;\n    }\n\n    .dataframe thead th {\n        text-align: right;\n    }\n</style>\n<table border=\"1\" class=\"dataframe\">\n  <thead>\n    <tr style=\"text-align: right;\">\n      <th></th>\n      <th>Num_Immigrants</th>\n    </tr>\n    <tr>\n      <th>District</th>\n      <th></th>\n    </tr>\n  </thead>\n  <tbody>\n    <tr>\n      <th>Ciutat Vella</th>\n      <td>12611</td>\n    </tr>\n    <tr>\n      <th>Eixample</th>\n      <td>19047</td>\n    </tr>\n    <tr>\n      <th>Gràcia</th>\n      <td>7254</td>\n    </tr>\n    <tr>\n      <th>Horta-Guinardó</th>\n      <td>7799</td>\n    </tr>\n    <tr>\n      <th>Les Corts</th>\n      <td>4375</td>\n    </tr>\n    <tr>\n      <th>No consta</th>\n      <td>2</td>\n    </tr>\n    <tr>\n      <th>Nou Barris</th>\n      <td>8274</td>\n    </tr>\n    <tr>\n      <th>Sant Andreu</th>\n      <td>6335</td>\n    </tr>\n    <tr>\n      <th>Sant Martí</th>\n      <td>12720</td>\n    </tr>\n    <tr>\n      <th>Sants-Montjuïc</th>\n      <td>11683</td>\n    </tr>\n    <tr>\n      <th>Sarrià-Sant Gervasi</th>\n      <td>7227</td>\n    </tr>\n  </tbody>\n</table>\n</div>",
      "text/plain": "                     Num_Immigrants\nDistrict                           \nCiutat Vella                  12611\nEixample                      19047\nGràcia                         7254\nHorta-Guinardó                 7799\nLes Corts                      4375\nNo consta                         2\nNou Barris                     8274\nSant Andreu                    6335\nSant Martí                    12720\nSants-Montjuïc                11683\nSarrià-Sant Gervasi            7227"
     },
     "execution_count": 28,
     "metadata": {},
     "output_type": "execute_result"
    }
   ],
   "source": [
    "# as we have a 'District' named 'No consta', and it is not a District at all, we check the values for it 'District' to determine if its relevant or not. \n",
    "\n",
    "i_by_age.groupby('District').sum()"
   ]
  },
  {
   "cell_type": "code",
   "execution_count": 49,
   "metadata": {},
   "outputs": [],
   "source": [
    "# as there are just 2 values in 'No consta' district, we can avoid them.\n",
    "\n",
    "i_by_age.drop(i_by_age.loc[i_by_age['District'] == 'No consta'].index, inplace=True)"
   ]
  },
  {
   "cell_type": "code",
   "execution_count": 50,
   "metadata": {},
   "outputs": [
    {
     "data": {
      "text/html": "<div>\n<style scoped>\n    .dataframe tbody tr th:only-of-type {\n        vertical-align: middle;\n    }\n\n    .dataframe tbody tr th {\n        vertical-align: top;\n    }\n\n    .dataframe thead th {\n        text-align: right;\n    }\n</style>\n<table border=\"1\" class=\"dataframe\">\n  <thead>\n    <tr style=\"text-align: right;\">\n      <th></th>\n      <th>District</th>\n      <th>Age</th>\n      <th>Num_Immigrants</th>\n    </tr>\n  </thead>\n  <tbody>\n    <tr>\n      <th>0</th>\n      <td>Ciutat Vella</td>\n      <td>0-4</td>\n      <td>154</td>\n    </tr>\n    <tr>\n      <th>1</th>\n      <td>Ciutat Vella</td>\n      <td>0-4</td>\n      <td>58</td>\n    </tr>\n    <tr>\n      <th>2</th>\n      <td>Ciutat Vella</td>\n      <td>0-4</td>\n      <td>38</td>\n    </tr>\n    <tr>\n      <th>3</th>\n      <td>Ciutat Vella</td>\n      <td>0-4</td>\n      <td>56</td>\n    </tr>\n    <tr>\n      <th>4</th>\n      <td>Eixample</td>\n      <td>0-4</td>\n      <td>79</td>\n    </tr>\n    <tr>\n      <th>...</th>\n      <td>...</td>\n      <td>...</td>\n      <td>...</td>\n    </tr>\n    <tr>\n      <th>1548</th>\n      <td>Sant Martí</td>\n      <td>&gt;=100</td>\n      <td>0</td>\n    </tr>\n    <tr>\n      <th>1549</th>\n      <td>Sant Martí</td>\n      <td>&gt;=100</td>\n      <td>0</td>\n    </tr>\n    <tr>\n      <th>1550</th>\n      <td>Sant Martí</td>\n      <td>&gt;=100</td>\n      <td>0</td>\n    </tr>\n    <tr>\n      <th>1551</th>\n      <td>Sant Martí</td>\n      <td>&gt;=100</td>\n      <td>0</td>\n    </tr>\n    <tr>\n      <th>1552</th>\n      <td>Sant Martí</td>\n      <td>&gt;=100</td>\n      <td>0</td>\n    </tr>\n  </tbody>\n</table>\n<p>1533 rows × 3 columns</p>\n</div>",
      "text/plain": "          District    Age  Num_Immigrants\n0     Ciutat Vella    0-4             154\n1     Ciutat Vella    0-4              58\n2     Ciutat Vella    0-4              38\n3     Ciutat Vella    0-4              56\n4         Eixample    0-4              79\n...            ...    ...             ...\n1548    Sant Martí  >=100               0\n1549    Sant Martí  >=100               0\n1550    Sant Martí  >=100               0\n1551    Sant Martí  >=100               0\n1552    Sant Martí  >=100               0\n\n[1533 rows x 3 columns]"
     },
     "execution_count": 50,
     "metadata": {},
     "output_type": "execute_result"
    }
   ],
   "source": [
    "i_by_age"
   ]
  },
  {
   "cell_type": "code",
   "execution_count": 57,
   "metadata": {},
   "outputs": [],
   "source": [
    "# As our dataset was initially considering neighborhoods, we have the data splitted in several rows for each district, so we need to group by District and Age.\n",
    "i_by_age = i_by_age.groupby(['District', 'Age']).sum().reset_index()"
   ]
  },
  {
   "cell_type": "code",
   "execution_count": 58,
   "metadata": {},
   "outputs": [
    {
     "data": {
      "text/html": "<div>\n<style scoped>\n    .dataframe tbody tr th:only-of-type {\n        vertical-align: middle;\n    }\n\n    .dataframe tbody tr th {\n        vertical-align: top;\n    }\n\n    .dataframe thead th {\n        text-align: right;\n    }\n</style>\n<table border=\"1\" class=\"dataframe\">\n  <thead>\n    <tr style=\"text-align: right;\">\n      <th></th>\n      <th>District</th>\n      <th>Age</th>\n      <th>Num_Immigrants</th>\n    </tr>\n  </thead>\n  <tbody>\n    <tr>\n      <th>0</th>\n      <td>Ciutat Vella</td>\n      <td>0-4</td>\n      <td>306</td>\n    </tr>\n    <tr>\n      <th>1</th>\n      <td>Ciutat Vella</td>\n      <td>10-14</td>\n      <td>190</td>\n    </tr>\n    <tr>\n      <th>2</th>\n      <td>Ciutat Vella</td>\n      <td>15-19</td>\n      <td>601</td>\n    </tr>\n    <tr>\n      <th>3</th>\n      <td>Ciutat Vella</td>\n      <td>20-24</td>\n      <td>2157</td>\n    </tr>\n    <tr>\n      <th>4</th>\n      <td>Ciutat Vella</td>\n      <td>25-29</td>\n      <td>3433</td>\n    </tr>\n    <tr>\n      <th>...</th>\n      <td>...</td>\n      <td>...</td>\n      <td>...</td>\n    </tr>\n    <tr>\n      <th>205</th>\n      <td>Sarrià-Sant Gervasi</td>\n      <td>80-84</td>\n      <td>65</td>\n    </tr>\n    <tr>\n      <th>206</th>\n      <td>Sarrià-Sant Gervasi</td>\n      <td>85-89</td>\n      <td>49</td>\n    </tr>\n    <tr>\n      <th>207</th>\n      <td>Sarrià-Sant Gervasi</td>\n      <td>90-94</td>\n      <td>29</td>\n    </tr>\n    <tr>\n      <th>208</th>\n      <td>Sarrià-Sant Gervasi</td>\n      <td>95-99</td>\n      <td>6</td>\n    </tr>\n    <tr>\n      <th>209</th>\n      <td>Sarrià-Sant Gervasi</td>\n      <td>&gt;=100</td>\n      <td>0</td>\n    </tr>\n  </tbody>\n</table>\n<p>210 rows × 3 columns</p>\n</div>",
      "text/plain": "                District    Age  Num_Immigrants\n0           Ciutat Vella    0-4             306\n1           Ciutat Vella  10-14             190\n2           Ciutat Vella  15-19             601\n3           Ciutat Vella  20-24            2157\n4           Ciutat Vella  25-29            3433\n..                   ...    ...             ...\n205  Sarrià-Sant Gervasi  80-84              65\n206  Sarrià-Sant Gervasi  85-89              49\n207  Sarrià-Sant Gervasi  90-94              29\n208  Sarrià-Sant Gervasi  95-99               6\n209  Sarrià-Sant Gervasi  >=100               0\n\n[210 rows x 3 columns]"
     },
     "execution_count": 58,
     "metadata": {},
     "output_type": "execute_result"
    }
   ],
   "source": [
    "i_by_age"
   ]
  },
  {
   "cell_type": "code",
   "execution_count": null,
   "metadata": {},
   "outputs": [],
   "source": [
    "i_by_age"
   ]
  },
  {
   "cell_type": "code",
   "execution_count": 59,
   "metadata": {},
   "outputs": [
    {
     "data": {
      "text/plain": "array(['0-4', '10-14', '15-19', '20-24', '25-29', '30-34', '35-39',\n       '40-44', '45-49', '5-9', '50-54', '55-59', '60-64', '65-69',\n       '70-74', '75-79', '80-84', '85-89', '90-94', '95-99', '>=100'],\n      dtype=object)"
     },
     "execution_count": 59,
     "metadata": {},
     "output_type": "execute_result"
    }
   ],
   "source": [
    "# Now we will check the diferents ranges for 'Age'\n",
    "i_by_age['Age'].unique()"
   ]
  },
  {
   "cell_type": "code",
   "execution_count": 81,
   "metadata": {},
   "outputs": [],
   "source": [
    "# to get the data more structured, we will join rows by age considering the following groups: 0-19, 20-39, 40-64 and >= 64\n",
    "group0_19 = i_by_age.loc[(i_by_age.Age.isin(['0-4','5-9','10-14','15-19'])),]\n",
    "group20_39 = i_by_age.loc[(i_by_age.Age.isin(['20-24','25-29','30-34','35-39'])),]\n",
    "group40_64 = i_by_age.loc[(i_by_age.Age.isin(['40-44','45-49','50-54','55-59', '60-64'])),]\n",
    "group_65over = i_by_age.loc[(i_by_age.Age.isin(['65-69','70-79', '80-84', '85-89', '90-94', '95-99', '>=100'])),]"
   ]
  },
  {
   "cell_type": "code",
   "execution_count": 96,
   "metadata": {},
   "outputs": [
    {
     "name": "stderr",
     "output_type": "stream",
     "text": "/usr/local/Cellar/ipython/7.7.0/libexec/vendor/lib/python3.7/site-packages/ipykernel_launcher.py:1: SettingWithCopyWarning: \nA value is trying to be set on a copy of a slice from a DataFrame.\nTry using .loc[row_indexer,col_indexer] = value instead\n\nSee the caveats in the documentation: http://pandas.pydata.org/pandas-docs/stable/user_guide/indexing.html#returning-a-view-versus-a-copy\n  \"\"\"Entry point for launching an IPython kernel.\n"
    }
   ],
   "source": [
    "# we use apply to change all the values of this subdataframe to 0-19, as we want to group it. \n",
    "group0_19['Age'] = group0_19['Age'].apply(lambda x: '0-19')"
   ]
  },
  {
   "cell_type": "code",
   "execution_count": 99,
   "metadata": {},
   "outputs": [],
   "source": [
    "# After changing the values, we can group by district and age, summing up the number of immigrants. \n",
    "group0_19 = group0_19.groupby(['District', 'Age']).sum()"
   ]
  },
  {
   "cell_type": "code",
   "execution_count": 100,
   "metadata": {},
   "outputs": [
    {
     "data": {
      "text/html": "<div>\n<style scoped>\n    .dataframe tbody tr th:only-of-type {\n        vertical-align: middle;\n    }\n\n    .dataframe tbody tr th {\n        vertical-align: top;\n    }\n\n    .dataframe thead th {\n        text-align: right;\n    }\n</style>\n<table border=\"1\" class=\"dataframe\">\n  <thead>\n    <tr style=\"text-align: right;\">\n      <th></th>\n      <th></th>\n      <th>Num_Immigrants</th>\n    </tr>\n    <tr>\n      <th>District</th>\n      <th>Age</th>\n      <th></th>\n    </tr>\n  </thead>\n  <tbody>\n    <tr>\n      <th>Ciutat Vella</th>\n      <th>0-19</th>\n      <td>1341</td>\n    </tr>\n    <tr>\n      <th>Eixample</th>\n      <th>0-19</th>\n      <td>2037</td>\n    </tr>\n    <tr>\n      <th>Gràcia</th>\n      <th>0-19</th>\n      <td>836</td>\n    </tr>\n    <tr>\n      <th>Horta-Guinardó</th>\n      <th>0-19</th>\n      <td>1168</td>\n    </tr>\n    <tr>\n      <th>Les Corts</th>\n      <th>0-19</th>\n      <td>767</td>\n    </tr>\n    <tr>\n      <th>Nou Barris</th>\n      <th>0-19</th>\n      <td>1589</td>\n    </tr>\n    <tr>\n      <th>Sant Andreu</th>\n      <th>0-19</th>\n      <td>989</td>\n    </tr>\n    <tr>\n      <th>Sant Martí</th>\n      <th>0-19</th>\n      <td>1918</td>\n    </tr>\n    <tr>\n      <th>Sants-Montjuïc</th>\n      <th>0-19</th>\n      <td>1592</td>\n    </tr>\n    <tr>\n      <th>Sarrià-Sant Gervasi</th>\n      <th>0-19</th>\n      <td>1490</td>\n    </tr>\n  </tbody>\n</table>\n</div>",
      "text/plain": "                          Num_Immigrants\nDistrict            Age                 \nCiutat Vella        0-19            1341\nEixample            0-19            2037\nGràcia              0-19             836\nHorta-Guinardó      0-19            1168\nLes Corts           0-19             767\nNou Barris          0-19            1589\nSant Andreu         0-19             989\nSant Martí          0-19            1918\nSants-Montjuïc      0-19            1592\nSarrià-Sant Gervasi 0-19            1490"
     },
     "execution_count": 100,
     "metadata": {},
     "output_type": "execute_result"
    }
   ],
   "source": [
    "group0_19"
   ]
  },
  {
   "cell_type": "code",
   "execution_count": null,
   "metadata": {},
   "outputs": [],
   "source": [
    "# as we need to repeat this operation some more times, we define a function to get these to operations in just one command."
   ]
  },
  {
   "cell_type": "code",
   "execution_count": 101,
   "metadata": {},
   "outputs": [],
   "source": [
    "def change_age(df, range):\n",
    "    \"\"\"\n",
    "    Input: DataFrame, String\n",
    "    Output: DataFrame\n",
    "    \n",
    "    # Change the Age field of the given DataFrame and return a grouped by and summed dataframe.\n",
    "    \"\"\"\n",
    "    df['Age'] = df.Age.apply(lambda x : range)\n",
    "    df = df.groupby(['District', 'Age']).sum()\n",
    "\n",
    "    return df"
   ]
  },
  {
   "cell_type": "code",
   "execution_count": 102,
   "metadata": {},
   "outputs": [
    {
     "name": "stderr",
     "output_type": "stream",
     "text": "/usr/local/Cellar/ipython/7.7.0/libexec/vendor/lib/python3.7/site-packages/ipykernel_launcher.py:2: SettingWithCopyWarning: \nA value is trying to be set on a copy of a slice from a DataFrame.\nTry using .loc[row_indexer,col_indexer] = value instead\n\nSee the caveats in the documentation: http://pandas.pydata.org/pandas-docs/stable/user_guide/indexing.html#returning-a-view-versus-a-copy\n  \n"
    }
   ],
   "source": [
    "# and we apply this function to all other subdataframes.\n",
    "group20_39 = change_age(group20_39, '20-39')"
   ]
  },
  {
   "cell_type": "code",
   "execution_count": 103,
   "metadata": {},
   "outputs": [
    {
     "data": {
      "text/html": "<div>\n<style scoped>\n    .dataframe tbody tr th:only-of-type {\n        vertical-align: middle;\n    }\n\n    .dataframe tbody tr th {\n        vertical-align: top;\n    }\n\n    .dataframe thead th {\n        text-align: right;\n    }\n</style>\n<table border=\"1\" class=\"dataframe\">\n  <thead>\n    <tr style=\"text-align: right;\">\n      <th></th>\n      <th></th>\n      <th>Num_Immigrants</th>\n    </tr>\n    <tr>\n      <th>District</th>\n      <th>Age</th>\n      <th></th>\n    </tr>\n  </thead>\n  <tbody>\n    <tr>\n      <th>Ciutat Vella</th>\n      <th>20-39</th>\n      <td>9113</td>\n    </tr>\n    <tr>\n      <th>Eixample</th>\n      <th>20-39</th>\n      <td>12829</td>\n    </tr>\n    <tr>\n      <th>Gràcia</th>\n      <th>20-39</th>\n      <td>4938</td>\n    </tr>\n    <tr>\n      <th>Horta-Guinardó</th>\n      <th>20-39</th>\n      <td>4619</td>\n    </tr>\n    <tr>\n      <th>Les Corts</th>\n      <th>20-39</th>\n      <td>2413</td>\n    </tr>\n    <tr>\n      <th>Nou Barris</th>\n      <th>20-39</th>\n      <td>4335</td>\n    </tr>\n    <tr>\n      <th>Sant Andreu</th>\n      <th>20-39</th>\n      <td>3488</td>\n    </tr>\n    <tr>\n      <th>Sant Martí</th>\n      <th>20-39</th>\n      <td>7496</td>\n    </tr>\n    <tr>\n      <th>Sants-Montjuïc</th>\n      <th>20-39</th>\n      <td>7398</td>\n    </tr>\n    <tr>\n      <th>Sarrià-Sant Gervasi</th>\n      <th>20-39</th>\n      <td>3467</td>\n    </tr>\n  </tbody>\n</table>\n</div>",
      "text/plain": "                           Num_Immigrants\nDistrict            Age                  \nCiutat Vella        20-39            9113\nEixample            20-39           12829\nGràcia              20-39            4938\nHorta-Guinardó      20-39            4619\nLes Corts           20-39            2413\nNou Barris          20-39            4335\nSant Andreu         20-39            3488\nSant Martí          20-39            7496\nSants-Montjuïc      20-39            7398\nSarrià-Sant Gervasi 20-39            3467"
     },
     "execution_count": 103,
     "metadata": {},
     "output_type": "execute_result"
    }
   ],
   "source": [
    "group20_39"
   ]
  },
  {
   "cell_type": "code",
   "execution_count": 104,
   "metadata": {},
   "outputs": [
    {
     "name": "stderr",
     "output_type": "stream",
     "text": "/usr/local/Cellar/ipython/7.7.0/libexec/vendor/lib/python3.7/site-packages/ipykernel_launcher.py:2: SettingWithCopyWarning: \nA value is trying to be set on a copy of a slice from a DataFrame.\nTry using .loc[row_indexer,col_indexer] = value instead\n\nSee the caveats in the documentation: http://pandas.pydata.org/pandas-docs/stable/user_guide/indexing.html#returning-a-view-versus-a-copy\n  \n"
    }
   ],
   "source": [
    "group40_64 = change_age(group40_64, '40-64')\n",
    "group_65over = change_age(group_65over, '>= 65')"
   ]
  },
  {
   "cell_type": "code",
   "execution_count": 110,
   "metadata": {},
   "outputs": [],
   "source": [
    "# we create a new dataframe concatenating all the groups of age\n",
    "i_by_agegroups = pd.concat([group0_19, group20_39, group40_64, group_65over])"
   ]
  },
  {
   "cell_type": "code",
   "execution_count": 111,
   "metadata": {},
   "outputs": [],
   "source": [
    "# and we order it by District and Age to get the format we want.\n",
    "i_by_agegroups = i_by_agegroups.groupby(['District', 'Age']).sum()"
   ]
  },
  {
   "cell_type": "code",
   "execution_count": 112,
   "metadata": {},
   "outputs": [
    {
     "data": {
      "text/html": "<div>\n<style scoped>\n    .dataframe tbody tr th:only-of-type {\n        vertical-align: middle;\n    }\n\n    .dataframe tbody tr th {\n        vertical-align: top;\n    }\n\n    .dataframe thead th {\n        text-align: right;\n    }\n</style>\n<table border=\"1\" class=\"dataframe\">\n  <thead>\n    <tr style=\"text-align: right;\">\n      <th></th>\n      <th></th>\n      <th>Num_Immigrants</th>\n    </tr>\n    <tr>\n      <th>District</th>\n      <th>Age</th>\n      <th></th>\n    </tr>\n  </thead>\n  <tbody>\n    <tr>\n      <th rowspan=\"4\" valign=\"top\">Ciutat Vella</th>\n      <th>0-19</th>\n      <td>1341</td>\n    </tr>\n    <tr>\n      <th>20-39</th>\n      <td>9113</td>\n    </tr>\n    <tr>\n      <th>40-64</th>\n      <td>1955</td>\n    </tr>\n    <tr>\n      <th>&gt;= 65</th>\n      <td>133</td>\n    </tr>\n    <tr>\n      <th rowspan=\"4\" valign=\"top\">Eixample</th>\n      <th>0-19</th>\n      <td>2037</td>\n    </tr>\n    <tr>\n      <th>20-39</th>\n      <td>12829</td>\n    </tr>\n    <tr>\n      <th>40-64</th>\n      <td>3343</td>\n    </tr>\n    <tr>\n      <th>&gt;= 65</th>\n      <td>508</td>\n    </tr>\n    <tr>\n      <th rowspan=\"4\" valign=\"top\">Gràcia</th>\n      <th>0-19</th>\n      <td>836</td>\n    </tr>\n    <tr>\n      <th>20-39</th>\n      <td>4938</td>\n    </tr>\n    <tr>\n      <th>40-64</th>\n      <td>1161</td>\n    </tr>\n    <tr>\n      <th>&gt;= 65</th>\n      <td>215</td>\n    </tr>\n    <tr>\n      <th rowspan=\"4\" valign=\"top\">Horta-Guinardó</th>\n      <th>0-19</th>\n      <td>1168</td>\n    </tr>\n    <tr>\n      <th>20-39</th>\n      <td>4619</td>\n    </tr>\n    <tr>\n      <th>40-64</th>\n      <td>1606</td>\n    </tr>\n    <tr>\n      <th>&gt;= 65</th>\n      <td>255</td>\n    </tr>\n    <tr>\n      <th rowspan=\"4\" valign=\"top\">Les Corts</th>\n      <th>0-19</th>\n      <td>767</td>\n    </tr>\n    <tr>\n      <th>20-39</th>\n      <td>2413</td>\n    </tr>\n    <tr>\n      <th>40-64</th>\n      <td>943</td>\n    </tr>\n    <tr>\n      <th>&gt;= 65</th>\n      <td>173</td>\n    </tr>\n    <tr>\n      <th rowspan=\"4\" valign=\"top\">Nou Barris</th>\n      <th>0-19</th>\n      <td>1589</td>\n    </tr>\n    <tr>\n      <th>20-39</th>\n      <td>4335</td>\n    </tr>\n    <tr>\n      <th>40-64</th>\n      <td>1984</td>\n    </tr>\n    <tr>\n      <th>&gt;= 65</th>\n      <td>236</td>\n    </tr>\n    <tr>\n      <th rowspan=\"4\" valign=\"top\">Sant Andreu</th>\n      <th>0-19</th>\n      <td>989</td>\n    </tr>\n    <tr>\n      <th>20-39</th>\n      <td>3488</td>\n    </tr>\n    <tr>\n      <th>40-64</th>\n      <td>1521</td>\n    </tr>\n    <tr>\n      <th>&gt;= 65</th>\n      <td>201</td>\n    </tr>\n    <tr>\n      <th rowspan=\"4\" valign=\"top\">Sant Martí</th>\n      <th>0-19</th>\n      <td>1918</td>\n    </tr>\n    <tr>\n      <th>20-39</th>\n      <td>7496</td>\n    </tr>\n    <tr>\n      <th>40-64</th>\n      <td>2747</td>\n    </tr>\n    <tr>\n      <th>&gt;= 65</th>\n      <td>362</td>\n    </tr>\n    <tr>\n      <th rowspan=\"4\" valign=\"top\">Sants-Montjuïc</th>\n      <th>0-19</th>\n      <td>1592</td>\n    </tr>\n    <tr>\n      <th>20-39</th>\n      <td>7398</td>\n    </tr>\n    <tr>\n      <th>40-64</th>\n      <td>2257</td>\n    </tr>\n    <tr>\n      <th>&gt;= 65</th>\n      <td>282</td>\n    </tr>\n    <tr>\n      <th rowspan=\"4\" valign=\"top\">Sarrià-Sant Gervasi</th>\n      <th>0-19</th>\n      <td>1490</td>\n    </tr>\n    <tr>\n      <th>20-39</th>\n      <td>3467</td>\n    </tr>\n    <tr>\n      <th>40-64</th>\n      <td>1812</td>\n    </tr>\n    <tr>\n      <th>&gt;= 65</th>\n      <td>274</td>\n    </tr>\n  </tbody>\n</table>\n</div>",
      "text/plain": "                           Num_Immigrants\nDistrict            Age                  \nCiutat Vella        0-19             1341\n                    20-39            9113\n                    40-64            1955\n                    >= 65             133\nEixample            0-19             2037\n                    20-39           12829\n                    40-64            3343\n                    >= 65             508\nGràcia              0-19              836\n                    20-39            4938\n                    40-64            1161\n                    >= 65             215\nHorta-Guinardó      0-19             1168\n                    20-39            4619\n                    40-64            1606\n                    >= 65             255\nLes Corts           0-19              767\n                    20-39            2413\n                    40-64             943\n                    >= 65             173\nNou Barris          0-19             1589\n                    20-39            4335\n                    40-64            1984\n                    >= 65             236\nSant Andreu         0-19              989\n                    20-39            3488\n                    40-64            1521\n                    >= 65             201\nSant Martí          0-19             1918\n                    20-39            7496\n                    40-64            2747\n                    >= 65             362\nSants-Montjuïc      0-19             1592\n                    20-39            7398\n                    40-64            2257\n                    >= 65             282\nSarrià-Sant Gervasi 0-19             1490\n                    20-39            3467\n                    40-64            1812\n                    >= 65             274"
     },
     "execution_count": 112,
     "metadata": {},
     "output_type": "execute_result"
    }
   ],
   "source": [
    "i_by_agegroups"
   ]
  },
  {
   "cell_type": "markdown",
   "execution_count": null,
   "metadata": {},
   "outputs": [],
   "source": [
    "## Second approach: Population in Barcelona by District, Age and Gender\n",
    "\n",
    "\n",
    "\n",
    "\n"
   ]
  },
  {
   "cell_type": "code",
   "execution_count": 113,
   "metadata": {},
   "outputs": [],
   "source": [
    "population = pd.read_csv('datasets/3.-Population/population_cleaned.csv')"
   ]
  },
  {
   "cell_type": "code",
   "execution_count": 114,
   "metadata": {},
   "outputs": [
    {
     "data": {
      "text/html": "<div>\n<style scoped>\n    .dataframe tbody tr th:only-of-type {\n        vertical-align: middle;\n    }\n\n    .dataframe tbody tr th {\n        vertical-align: top;\n    }\n\n    .dataframe thead th {\n        text-align: right;\n    }\n</style>\n<table border=\"1\" class=\"dataframe\">\n  <thead>\n    <tr style=\"text-align: right;\">\n      <th></th>\n      <th>Unnamed: 0</th>\n      <th>Year</th>\n      <th>District.Name</th>\n      <th>Gender</th>\n      <th>Age</th>\n      <th>Number</th>\n    </tr>\n  </thead>\n  <tbody>\n    <tr>\n      <th>0</th>\n      <td>0</td>\n      <td>2017</td>\n      <td>Ciutat Vella</td>\n      <td>Male</td>\n      <td>0-4</td>\n      <td>224</td>\n    </tr>\n    <tr>\n      <th>1</th>\n      <td>1</td>\n      <td>2017</td>\n      <td>Ciutat Vella</td>\n      <td>Male</td>\n      <td>0-4</td>\n      <td>50</td>\n    </tr>\n    <tr>\n      <th>2</th>\n      <td>2</td>\n      <td>2017</td>\n      <td>Ciutat Vella</td>\n      <td>Male</td>\n      <td>0-4</td>\n      <td>43</td>\n    </tr>\n    <tr>\n      <th>3</th>\n      <td>3</td>\n      <td>2017</td>\n      <td>Ciutat Vella</td>\n      <td>Male</td>\n      <td>0-4</td>\n      <td>95</td>\n    </tr>\n    <tr>\n      <th>4</th>\n      <td>4</td>\n      <td>2017</td>\n      <td>Eixample</td>\n      <td>Male</td>\n      <td>0-4</td>\n      <td>124</td>\n    </tr>\n    <tr>\n      <th>...</th>\n      <td>...</td>\n      <td>...</td>\n      <td>...</td>\n      <td>...</td>\n      <td>...</td>\n      <td>...</td>\n    </tr>\n    <tr>\n      <th>14011</th>\n      <td>14011</td>\n      <td>2017</td>\n      <td>Sant Martí</td>\n      <td>Female</td>\n      <td>&gt;=95</td>\n      <td>11</td>\n    </tr>\n    <tr>\n      <th>14012</th>\n      <td>14012</td>\n      <td>2017</td>\n      <td>Sant Martí</td>\n      <td>Female</td>\n      <td>&gt;=95</td>\n      <td>41</td>\n    </tr>\n    <tr>\n      <th>14013</th>\n      <td>14013</td>\n      <td>2017</td>\n      <td>Sant Martí</td>\n      <td>Female</td>\n      <td>&gt;=95</td>\n      <td>28</td>\n    </tr>\n    <tr>\n      <th>14014</th>\n      <td>14014</td>\n      <td>2017</td>\n      <td>Sant Martí</td>\n      <td>Female</td>\n      <td>&gt;=95</td>\n      <td>57</td>\n    </tr>\n    <tr>\n      <th>14015</th>\n      <td>14015</td>\n      <td>2017</td>\n      <td>Sant Martí</td>\n      <td>Female</td>\n      <td>&gt;=95</td>\n      <td>54</td>\n    </tr>\n  </tbody>\n</table>\n<p>14016 rows × 6 columns</p>\n</div>",
      "text/plain": "       Unnamed: 0  Year District.Name  Gender   Age  Number\n0               0  2017  Ciutat Vella    Male   0-4     224\n1               1  2017  Ciutat Vella    Male   0-4      50\n2               2  2017  Ciutat Vella    Male   0-4      43\n3               3  2017  Ciutat Vella    Male   0-4      95\n4               4  2017      Eixample    Male   0-4     124\n...           ...   ...           ...     ...   ...     ...\n14011       14011  2017    Sant Martí  Female  >=95      11\n14012       14012  2017    Sant Martí  Female  >=95      41\n14013       14013  2017    Sant Martí  Female  >=95      28\n14014       14014  2017    Sant Martí  Female  >=95      57\n14015       14015  2017    Sant Martí  Female  >=95      54\n\n[14016 rows x 6 columns]"
     },
     "execution_count": 114,
     "metadata": {},
     "output_type": "execute_result"
    }
   ],
   "source": [
    "population"
   ]
  },
  {
   "cell_type": "code",
   "execution_count": 115,
   "metadata": {},
   "outputs": [],
   "source": [
    "# as for the analysis we don't need the column year neither the index, we will drop them. \n",
    "\n",
    "population.drop(['Unnamed: 0', 'Year'], axis=1, inplace=True)"
   ]
  },
  {
   "cell_type": "code",
   "execution_count": 119,
   "metadata": {},
   "outputs": [],
   "source": [
    "# We are changing the name of the columns to avoid white spaces\n",
    "population = population.rename(columns = {'District.Name':'District', 'Number':'Num_Immigrants'})"
   ]
  },
  {
   "cell_type": "code",
   "execution_count": 120,
   "metadata": {},
   "outputs": [
    {
     "data": {
      "text/html": "<div>\n<style scoped>\n    .dataframe tbody tr th:only-of-type {\n        vertical-align: middle;\n    }\n\n    .dataframe tbody tr th {\n        vertical-align: top;\n    }\n\n    .dataframe thead th {\n        text-align: right;\n    }\n</style>\n<table border=\"1\" class=\"dataframe\">\n  <thead>\n    <tr style=\"text-align: right;\">\n      <th></th>\n      <th>District</th>\n      <th>Gender</th>\n      <th>Age</th>\n      <th>Num_Immigrants</th>\n    </tr>\n  </thead>\n  <tbody>\n    <tr>\n      <th>0</th>\n      <td>Ciutat Vella</td>\n      <td>Male</td>\n      <td>0-4</td>\n      <td>224</td>\n    </tr>\n    <tr>\n      <th>1</th>\n      <td>Ciutat Vella</td>\n      <td>Male</td>\n      <td>0-4</td>\n      <td>50</td>\n    </tr>\n    <tr>\n      <th>2</th>\n      <td>Ciutat Vella</td>\n      <td>Male</td>\n      <td>0-4</td>\n      <td>43</td>\n    </tr>\n    <tr>\n      <th>3</th>\n      <td>Ciutat Vella</td>\n      <td>Male</td>\n      <td>0-4</td>\n      <td>95</td>\n    </tr>\n    <tr>\n      <th>4</th>\n      <td>Eixample</td>\n      <td>Male</td>\n      <td>0-4</td>\n      <td>124</td>\n    </tr>\n    <tr>\n      <th>...</th>\n      <td>...</td>\n      <td>...</td>\n      <td>...</td>\n      <td>...</td>\n    </tr>\n    <tr>\n      <th>14011</th>\n      <td>Sant Martí</td>\n      <td>Female</td>\n      <td>&gt;=95</td>\n      <td>11</td>\n    </tr>\n    <tr>\n      <th>14012</th>\n      <td>Sant Martí</td>\n      <td>Female</td>\n      <td>&gt;=95</td>\n      <td>41</td>\n    </tr>\n    <tr>\n      <th>14013</th>\n      <td>Sant Martí</td>\n      <td>Female</td>\n      <td>&gt;=95</td>\n      <td>28</td>\n    </tr>\n    <tr>\n      <th>14014</th>\n      <td>Sant Martí</td>\n      <td>Female</td>\n      <td>&gt;=95</td>\n      <td>57</td>\n    </tr>\n    <tr>\n      <th>14015</th>\n      <td>Sant Martí</td>\n      <td>Female</td>\n      <td>&gt;=95</td>\n      <td>54</td>\n    </tr>\n  </tbody>\n</table>\n<p>14016 rows × 4 columns</p>\n</div>",
      "text/plain": "           District  Gender   Age  Num_Immigrants\n0      Ciutat Vella    Male   0-4             224\n1      Ciutat Vella    Male   0-4              50\n2      Ciutat Vella    Male   0-4              43\n3      Ciutat Vella    Male   0-4              95\n4          Eixample    Male   0-4             124\n...             ...     ...   ...             ...\n14011    Sant Martí  Female  >=95              11\n14012    Sant Martí  Female  >=95              41\n14013    Sant Martí  Female  >=95              28\n14014    Sant Martí  Female  >=95              57\n14015    Sant Martí  Female  >=95              54\n\n[14016 rows x 4 columns]"
     },
     "execution_count": 120,
     "metadata": {},
     "output_type": "execute_result"
    }
   ],
   "source": [
    "population"
   ]
  },
  {
   "cell_type": "code",
   "execution_count": null,
   "metadata": {},
   "outputs": [],
   "source": []
  }
 ]
}