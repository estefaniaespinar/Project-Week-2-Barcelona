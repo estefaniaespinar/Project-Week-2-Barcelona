{
 "nbformat": 4,
 "nbformat_minor": 2,
 "metadata": {
  "language_info": {
   "name": "python",
   "codemirror_mode": {
    "name": "ipython",
    "version": 3
   }
  },
  "orig_nbformat": 2,
  "file_extension": ".py",
  "mimetype": "text/x-python",
  "name": "python",
  "npconvert_exporter": "python",
  "pygments_lexer": "ipython3",
  "version": 3
 },
 "cells": [
  {
   "cell_type": "code",
   "execution_count": 9,
   "metadata": {},
   "outputs": [],
   "source": [
    "import numpy as np \n",
    "import pandas as pd \n",
    "import xlrd"
   ]
  },
  {
   "cell_type": "code",
   "execution_count": 13,
   "metadata": {},
   "outputs": [],
   "source": [
    "## start importing a dataset"
   ]
  },
  {
   "cell_type": "code",
   "execution_count": 29,
   "metadata": {},
   "outputs": [],
   "source": [
    "i_by_age = pd.read_csv('datasets/3.-Population/immigrants-emigrants-by-age.csv')"
   ]
  },
  {
   "cell_type": "code",
   "execution_count": 30,
   "metadata": {},
   "outputs": [
    {
     "data": {
      "text/html": "<div>\n<style scoped>\n    .dataframe tbody tr th:only-of-type {\n        vertical-align: middle;\n    }\n\n    .dataframe tbody tr th {\n        vertical-align: top;\n    }\n\n    .dataframe thead th {\n        text-align: right;\n    }\n</style>\n<table border=\"1\" class=\"dataframe\">\n  <thead>\n    <tr style=\"text-align: right;\">\n      <th></th>\n      <th>Year</th>\n      <th>District Code</th>\n      <th>District Name</th>\n      <th>Neighborhood Code</th>\n      <th>Neighborhood Name</th>\n      <th>Age</th>\n      <th>Immigrants</th>\n      <th>Emigrants</th>\n    </tr>\n  </thead>\n  <tbody>\n    <tr>\n      <th>0</th>\n      <td>2017</td>\n      <td>1</td>\n      <td>Ciutat Vella</td>\n      <td>1</td>\n      <td>el Raval</td>\n      <td>0-4</td>\n      <td>154</td>\n      <td>108</td>\n    </tr>\n    <tr>\n      <th>1</th>\n      <td>2017</td>\n      <td>1</td>\n      <td>Ciutat Vella</td>\n      <td>2</td>\n      <td>el Barri Gòtic</td>\n      <td>0-4</td>\n      <td>58</td>\n      <td>33</td>\n    </tr>\n    <tr>\n      <th>2</th>\n      <td>2017</td>\n      <td>1</td>\n      <td>Ciutat Vella</td>\n      <td>3</td>\n      <td>la Barceloneta</td>\n      <td>0-4</td>\n      <td>38</td>\n      <td>37</td>\n    </tr>\n    <tr>\n      <th>3</th>\n      <td>2017</td>\n      <td>1</td>\n      <td>Ciutat Vella</td>\n      <td>4</td>\n      <td>Sant Pere, Santa Caterina i la Ribera</td>\n      <td>0-4</td>\n      <td>56</td>\n      <td>55</td>\n    </tr>\n    <tr>\n      <th>4</th>\n      <td>2017</td>\n      <td>2</td>\n      <td>Eixample</td>\n      <td>5</td>\n      <td>el Fort Pienc</td>\n      <td>0-4</td>\n      <td>79</td>\n      <td>60</td>\n    </tr>\n    <tr>\n      <th>...</th>\n      <td>...</td>\n      <td>...</td>\n      <td>...</td>\n      <td>...</td>\n      <td>...</td>\n      <td>...</td>\n      <td>...</td>\n      <td>...</td>\n    </tr>\n    <tr>\n      <th>4657</th>\n      <td>2015</td>\n      <td>10</td>\n      <td>Sant Martí</td>\n      <td>70</td>\n      <td>el Besòs i el Maresme</td>\n      <td>&gt;=100</td>\n      <td>0</td>\n      <td>1</td>\n    </tr>\n    <tr>\n      <th>4658</th>\n      <td>2015</td>\n      <td>10</td>\n      <td>Sant Martí</td>\n      <td>71</td>\n      <td>Provençals del Poblenou</td>\n      <td>&gt;=100</td>\n      <td>0</td>\n      <td>0</td>\n    </tr>\n    <tr>\n      <th>4659</th>\n      <td>2015</td>\n      <td>10</td>\n      <td>Sant Martí</td>\n      <td>72</td>\n      <td>Sant Martí de Provençals</td>\n      <td>&gt;=100</td>\n      <td>0</td>\n      <td>0</td>\n    </tr>\n    <tr>\n      <th>4660</th>\n      <td>2015</td>\n      <td>10</td>\n      <td>Sant Martí</td>\n      <td>73</td>\n      <td>la Verneda i la Pau</td>\n      <td>&gt;=100</td>\n      <td>0</td>\n      <td>0</td>\n    </tr>\n    <tr>\n      <th>4661</th>\n      <td>2015</td>\n      <td>99</td>\n      <td>No consta</td>\n      <td>99</td>\n      <td>No consta</td>\n      <td>&gt;=100</td>\n      <td>0</td>\n      <td>0</td>\n    </tr>\n  </tbody>\n</table>\n<p>4662 rows × 8 columns</p>\n</div>",
      "text/plain": "      Year  District Code District Name  Neighborhood Code  \\\n0     2017              1  Ciutat Vella                  1   \n1     2017              1  Ciutat Vella                  2   \n2     2017              1  Ciutat Vella                  3   \n3     2017              1  Ciutat Vella                  4   \n4     2017              2      Eixample                  5   \n...    ...            ...           ...                ...   \n4657  2015             10    Sant Martí                 70   \n4658  2015             10    Sant Martí                 71   \n4659  2015             10    Sant Martí                 72   \n4660  2015             10    Sant Martí                 73   \n4661  2015             99     No consta                 99   \n\n                          Neighborhood Name    Age  Immigrants  Emigrants  \n0                                  el Raval    0-4         154        108  \n1                            el Barri Gòtic    0-4          58         33  \n2                            la Barceloneta    0-4          38         37  \n3     Sant Pere, Santa Caterina i la Ribera    0-4          56         55  \n4                             el Fort Pienc    0-4          79         60  \n...                                     ...    ...         ...        ...  \n4657                  el Besòs i el Maresme  >=100           0          1  \n4658                Provençals del Poblenou  >=100           0          0  \n4659               Sant Martí de Provençals  >=100           0          0  \n4660                    la Verneda i la Pau  >=100           0          0  \n4661                              No consta  >=100           0          0  \n\n[4662 rows x 8 columns]"
     },
     "execution_count": 30,
     "metadata": {},
     "output_type": "execute_result"
    }
   ],
   "source": [
    "i_by_age"
   ]
  },
  {
   "cell_type": "code",
   "execution_count": 31,
   "metadata": {},
   "outputs": [],
   "source": [
    "i_by_sex = pd.read_csv('datasets/3.-Population/immigrants-emigrants-by-sex.csv')"
   ]
  },
  {
   "cell_type": "code",
   "execution_count": 32,
   "metadata": {},
   "outputs": [
    {
     "data": {
      "text/html": "<div>\n<style scoped>\n    .dataframe tbody tr th:only-of-type {\n        vertical-align: middle;\n    }\n\n    .dataframe tbody tr th {\n        vertical-align: top;\n    }\n\n    .dataframe thead th {\n        text-align: right;\n    }\n</style>\n<table border=\"1\" class=\"dataframe\">\n  <thead>\n    <tr style=\"text-align: right;\">\n      <th></th>\n      <th>Year</th>\n      <th>District Code</th>\n      <th>District Name</th>\n      <th>Neighborhood Code</th>\n      <th>Neighborhood Name</th>\n      <th>Gender</th>\n      <th>Immigrants</th>\n      <th>Emigrants</th>\n    </tr>\n  </thead>\n  <tbody>\n    <tr>\n      <th>0</th>\n      <td>2017</td>\n      <td>1</td>\n      <td>Ciutat Vella</td>\n      <td>1</td>\n      <td>el Raval</td>\n      <td>Male</td>\n      <td>3063</td>\n      <td>1195</td>\n    </tr>\n    <tr>\n      <th>1</th>\n      <td>2017</td>\n      <td>1</td>\n      <td>Ciutat Vella</td>\n      <td>2</td>\n      <td>el Barri Gòtic</td>\n      <td>Male</td>\n      <td>1499</td>\n      <td>427</td>\n    </tr>\n    <tr>\n      <th>2</th>\n      <td>2017</td>\n      <td>1</td>\n      <td>Ciutat Vella</td>\n      <td>3</td>\n      <td>la Barceloneta</td>\n      <td>Male</td>\n      <td>910</td>\n      <td>361</td>\n    </tr>\n    <tr>\n      <th>3</th>\n      <td>2017</td>\n      <td>1</td>\n      <td>Ciutat Vella</td>\n      <td>4</td>\n      <td>Sant Pere, Santa Caterina i la Ribera</td>\n      <td>Male</td>\n      <td>1438</td>\n      <td>502</td>\n    </tr>\n    <tr>\n      <th>4</th>\n      <td>2017</td>\n      <td>2</td>\n      <td>Eixample</td>\n      <td>5</td>\n      <td>el Fort Pienc</td>\n      <td>Male</td>\n      <td>1082</td>\n      <td>495</td>\n    </tr>\n    <tr>\n      <th>...</th>\n      <td>...</td>\n      <td>...</td>\n      <td>...</td>\n      <td>...</td>\n      <td>...</td>\n      <td>...</td>\n      <td>...</td>\n      <td>...</td>\n    </tr>\n    <tr>\n      <th>725</th>\n      <td>2013</td>\n      <td>10</td>\n      <td>Sant Martí</td>\n      <td>69</td>\n      <td>Diagonal Mar i el Front Marítim del Poblenou</td>\n      <td>Female</td>\n      <td>261</td>\n      <td>206</td>\n    </tr>\n    <tr>\n      <th>726</th>\n      <td>2013</td>\n      <td>10</td>\n      <td>Sant Martí</td>\n      <td>70</td>\n      <td>el Besòs i el Maresme</td>\n      <td>Female</td>\n      <td>568</td>\n      <td>455</td>\n    </tr>\n    <tr>\n      <th>727</th>\n      <td>2013</td>\n      <td>10</td>\n      <td>Sant Martí</td>\n      <td>71</td>\n      <td>Provençals del Poblenou</td>\n      <td>Female</td>\n      <td>360</td>\n      <td>305</td>\n    </tr>\n    <tr>\n      <th>728</th>\n      <td>2013</td>\n      <td>10</td>\n      <td>Sant Martí</td>\n      <td>72</td>\n      <td>Sant Martí de Provençals</td>\n      <td>Female</td>\n      <td>446</td>\n      <td>355</td>\n    </tr>\n    <tr>\n      <th>729</th>\n      <td>2013</td>\n      <td>10</td>\n      <td>Sant Martí</td>\n      <td>73</td>\n      <td>la Verneda i la Pau</td>\n      <td>Female</td>\n      <td>505</td>\n      <td>426</td>\n    </tr>\n  </tbody>\n</table>\n<p>730 rows × 8 columns</p>\n</div>",
      "text/plain": "     Year  District Code District Name  Neighborhood Code  \\\n0    2017              1  Ciutat Vella                  1   \n1    2017              1  Ciutat Vella                  2   \n2    2017              1  Ciutat Vella                  3   \n3    2017              1  Ciutat Vella                  4   \n4    2017              2      Eixample                  5   \n..    ...            ...           ...                ...   \n725  2013             10    Sant Martí                 69   \n726  2013             10    Sant Martí                 70   \n727  2013             10    Sant Martí                 71   \n728  2013             10    Sant Martí                 72   \n729  2013             10    Sant Martí                 73   \n\n                                Neighborhood Name  Gender  Immigrants  \\\n0                                        el Raval    Male        3063   \n1                                  el Barri Gòtic    Male        1499   \n2                                  la Barceloneta    Male         910   \n3           Sant Pere, Santa Caterina i la Ribera    Male        1438   \n4                                   el Fort Pienc    Male        1082   \n..                                            ...     ...         ...   \n725  Diagonal Mar i el Front Marítim del Poblenou  Female         261   \n726                         el Besòs i el Maresme  Female         568   \n727                       Provençals del Poblenou  Female         360   \n728                      Sant Martí de Provençals  Female         446   \n729                           la Verneda i la Pau  Female         505   \n\n     Emigrants  \n0         1195  \n1          427  \n2          361  \n3          502  \n4          495  \n..         ...  \n725        206  \n726        455  \n727        305  \n728        355  \n729        426  \n\n[730 rows x 8 columns]"
     },
     "execution_count": 32,
     "metadata": {},
     "output_type": "execute_result"
    }
   ],
   "source": [
    "i_by_sex"
   ]
  },
  {
   "cell_type": "code",
   "execution_count": 33,
   "metadata": {},
   "outputs": [],
   "source": [
    "i_by_dest = pd.read_csv('datasets/3.-Population/immigrants-emigrants-by-destination.csv')"
   ]
  },
  {
   "cell_type": "code",
   "execution_count": 34,
   "metadata": {},
   "outputs": [
    {
     "data": {
      "text/html": "<div>\n<style scoped>\n    .dataframe tbody tr th:only-of-type {\n        vertical-align: middle;\n    }\n\n    .dataframe tbody tr th {\n        vertical-align: top;\n    }\n\n    .dataframe thead th {\n        text-align: right;\n    }\n</style>\n<table border=\"1\" class=\"dataframe\">\n  <thead>\n    <tr style=\"text-align: right;\">\n      <th></th>\n      <th>from</th>\n      <th>to</th>\n      <th>weight</th>\n    </tr>\n  </thead>\n  <tbody>\n    <tr>\n      <th>0</th>\n      <td>Abroad</td>\n      <td>Barcelona</td>\n      <td>53085</td>\n    </tr>\n    <tr>\n      <th>1</th>\n      <td>Andalusia</td>\n      <td>Barcelona</td>\n      <td>2416</td>\n    </tr>\n    <tr>\n      <th>2</th>\n      <td>Aragon</td>\n      <td>Barcelona</td>\n      <td>811</td>\n    </tr>\n    <tr>\n      <th>3</th>\n      <td>Asturias</td>\n      <td>Barcelona</td>\n      <td>323</td>\n    </tr>\n    <tr>\n      <th>4</th>\n      <td>Balearic Islands</td>\n      <td>Barcelona</td>\n      <td>1634</td>\n    </tr>\n    <tr>\n      <th>5</th>\n      <td>Barcelona</td>\n      <td>Abroad</td>\n      <td>5485</td>\n    </tr>\n    <tr>\n      <th>6</th>\n      <td>Barcelona</td>\n      <td>Andalusia</td>\n      <td>1596</td>\n    </tr>\n    <tr>\n      <th>7</th>\n      <td>Barcelona</td>\n      <td>Aragon</td>\n      <td>745</td>\n    </tr>\n    <tr>\n      <th>8</th>\n      <td>Barcelona</td>\n      <td>Asturias</td>\n      <td>204</td>\n    </tr>\n    <tr>\n      <th>9</th>\n      <td>Barcelona</td>\n      <td>Balearic Islands</td>\n      <td>1428</td>\n    </tr>\n    <tr>\n      <th>10</th>\n      <td>Barcelona</td>\n      <td>Basque Country</td>\n      <td>475</td>\n    </tr>\n    <tr>\n      <th>11</th>\n      <td>Barcelona</td>\n      <td>Canary Islands</td>\n      <td>789</td>\n    </tr>\n    <tr>\n      <th>12</th>\n      <td>Barcelona</td>\n      <td>Cantabria</td>\n      <td>132</td>\n    </tr>\n    <tr>\n      <th>13</th>\n      <td>Barcelona</td>\n      <td>Castile and León</td>\n      <td>517</td>\n    </tr>\n    <tr>\n      <th>14</th>\n      <td>Barcelona</td>\n      <td>Castilla-La Mancha</td>\n      <td>347</td>\n    </tr>\n    <tr>\n      <th>15</th>\n      <td>Barcelona</td>\n      <td>Catalonia</td>\n      <td>35036</td>\n    </tr>\n    <tr>\n      <th>16</th>\n      <td>Barcelona</td>\n      <td>Ceuta</td>\n      <td>12</td>\n    </tr>\n    <tr>\n      <th>17</th>\n      <td>Barcelona</td>\n      <td>Community of Madrid</td>\n      <td>2647</td>\n    </tr>\n    <tr>\n      <th>18</th>\n      <td>Barcelona</td>\n      <td>Extremadura</td>\n      <td>201</td>\n    </tr>\n    <tr>\n      <th>19</th>\n      <td>Barcelona</td>\n      <td>Galicia</td>\n      <td>795</td>\n    </tr>\n    <tr>\n      <th>20</th>\n      <td>Barcelona</td>\n      <td>La Rioja</td>\n      <td>72</td>\n    </tr>\n    <tr>\n      <th>21</th>\n      <td>Barcelona</td>\n      <td>Melilla</td>\n      <td>27</td>\n    </tr>\n    <tr>\n      <th>22</th>\n      <td>Barcelona</td>\n      <td>Navarre</td>\n      <td>186</td>\n    </tr>\n    <tr>\n      <th>23</th>\n      <td>Barcelona</td>\n      <td>Region of Murcia</td>\n      <td>243</td>\n    </tr>\n    <tr>\n      <th>24</th>\n      <td>Barcelona</td>\n      <td>Valencian Community</td>\n      <td>1711</td>\n    </tr>\n    <tr>\n      <th>25</th>\n      <td>Basque Country</td>\n      <td>Barcelona</td>\n      <td>710</td>\n    </tr>\n    <tr>\n      <th>26</th>\n      <td>Canary Islands</td>\n      <td>Barcelona</td>\n      <td>863</td>\n    </tr>\n    <tr>\n      <th>27</th>\n      <td>Cantabria</td>\n      <td>Barcelona</td>\n      <td>162</td>\n    </tr>\n    <tr>\n      <th>28</th>\n      <td>Castile and León</td>\n      <td>Barcelona</td>\n      <td>814</td>\n    </tr>\n    <tr>\n      <th>29</th>\n      <td>Castilla-La Mancha</td>\n      <td>Barcelona</td>\n      <td>445</td>\n    </tr>\n    <tr>\n      <th>30</th>\n      <td>Catalonia</td>\n      <td>Barcelona</td>\n      <td>28779</td>\n    </tr>\n    <tr>\n      <th>31</th>\n      <td>Ceuta</td>\n      <td>Barcelona</td>\n      <td>24</td>\n    </tr>\n    <tr>\n      <th>32</th>\n      <td>Community of Madrid</td>\n      <td>Barcelona</td>\n      <td>2942</td>\n    </tr>\n    <tr>\n      <th>33</th>\n      <td>Extremadura</td>\n      <td>Barcelona</td>\n      <td>240</td>\n    </tr>\n    <tr>\n      <th>34</th>\n      <td>Galicia</td>\n      <td>Barcelona</td>\n      <td>983</td>\n    </tr>\n    <tr>\n      <th>35</th>\n      <td>La Rioja</td>\n      <td>Barcelona</td>\n      <td>129</td>\n    </tr>\n    <tr>\n      <th>36</th>\n      <td>Melilla</td>\n      <td>Barcelona</td>\n      <td>60</td>\n    </tr>\n    <tr>\n      <th>37</th>\n      <td>Navarre</td>\n      <td>Barcelona</td>\n      <td>246</td>\n    </tr>\n    <tr>\n      <th>38</th>\n      <td>Region of Murcia</td>\n      <td>Barcelona</td>\n      <td>354</td>\n    </tr>\n    <tr>\n      <th>39</th>\n      <td>Valencian Community</td>\n      <td>Barcelona</td>\n      <td>2305</td>\n    </tr>\n  </tbody>\n</table>\n</div>",
      "text/plain": "                   from                   to  weight\n0                Abroad            Barcelona   53085\n1             Andalusia            Barcelona    2416\n2                Aragon            Barcelona     811\n3              Asturias            Barcelona     323\n4      Balearic Islands            Barcelona    1634\n5             Barcelona               Abroad    5485\n6             Barcelona            Andalusia    1596\n7             Barcelona               Aragon     745\n8             Barcelona             Asturias     204\n9             Barcelona     Balearic Islands    1428\n10            Barcelona       Basque Country     475\n11            Barcelona       Canary Islands     789\n12            Barcelona            Cantabria     132\n13            Barcelona     Castile and León     517\n14            Barcelona   Castilla-La Mancha     347\n15            Barcelona            Catalonia   35036\n16            Barcelona                Ceuta      12\n17            Barcelona  Community of Madrid    2647\n18            Barcelona          Extremadura     201\n19            Barcelona              Galicia     795\n20            Barcelona             La Rioja      72\n21            Barcelona              Melilla      27\n22            Barcelona              Navarre     186\n23            Barcelona     Region of Murcia     243\n24            Barcelona  Valencian Community    1711\n25       Basque Country            Barcelona     710\n26       Canary Islands            Barcelona     863\n27            Cantabria            Barcelona     162\n28     Castile and León            Barcelona     814\n29   Castilla-La Mancha            Barcelona     445\n30            Catalonia            Barcelona   28779\n31                Ceuta            Barcelona      24\n32  Community of Madrid            Barcelona    2942\n33          Extremadura            Barcelona     240\n34              Galicia            Barcelona     983\n35             La Rioja            Barcelona     129\n36              Melilla            Barcelona      60\n37              Navarre            Barcelona     246\n38     Region of Murcia            Barcelona     354\n39  Valencian Community            Barcelona    2305"
     },
     "execution_count": 34,
     "metadata": {},
     "output_type": "execute_result"
    }
   ],
   "source": [
    "i_by_dest"
   ]
  },
  {
   "cell_type": "code",
   "execution_count": 38,
   "metadata": {},
   "outputs": [],
   "source": [
    "i_by_dest.columns = ['origin', 'destination', 'quantity']"
   ]
  },
  {
   "cell_type": "code",
   "execution_count": 39,
   "metadata": {},
   "outputs": [
    {
     "data": {
      "text/html": "<div>\n<style scoped>\n    .dataframe tbody tr th:only-of-type {\n        vertical-align: middle;\n    }\n\n    .dataframe tbody tr th {\n        vertical-align: top;\n    }\n\n    .dataframe thead th {\n        text-align: right;\n    }\n</style>\n<table border=\"1\" class=\"dataframe\">\n  <thead>\n    <tr style=\"text-align: right;\">\n      <th></th>\n      <th>origin</th>\n      <th>destination</th>\n      <th>quantity</th>\n    </tr>\n  </thead>\n  <tbody>\n    <tr>\n      <th>0</th>\n      <td>Abroad</td>\n      <td>Barcelona</td>\n      <td>53085</td>\n    </tr>\n    <tr>\n      <th>1</th>\n      <td>Andalusia</td>\n      <td>Barcelona</td>\n      <td>2416</td>\n    </tr>\n    <tr>\n      <th>2</th>\n      <td>Aragon</td>\n      <td>Barcelona</td>\n      <td>811</td>\n    </tr>\n    <tr>\n      <th>3</th>\n      <td>Asturias</td>\n      <td>Barcelona</td>\n      <td>323</td>\n    </tr>\n    <tr>\n      <th>4</th>\n      <td>Balearic Islands</td>\n      <td>Barcelona</td>\n      <td>1634</td>\n    </tr>\n    <tr>\n      <th>5</th>\n      <td>Barcelona</td>\n      <td>Abroad</td>\n      <td>5485</td>\n    </tr>\n    <tr>\n      <th>6</th>\n      <td>Barcelona</td>\n      <td>Andalusia</td>\n      <td>1596</td>\n    </tr>\n    <tr>\n      <th>7</th>\n      <td>Barcelona</td>\n      <td>Aragon</td>\n      <td>745</td>\n    </tr>\n    <tr>\n      <th>8</th>\n      <td>Barcelona</td>\n      <td>Asturias</td>\n      <td>204</td>\n    </tr>\n    <tr>\n      <th>9</th>\n      <td>Barcelona</td>\n      <td>Balearic Islands</td>\n      <td>1428</td>\n    </tr>\n    <tr>\n      <th>10</th>\n      <td>Barcelona</td>\n      <td>Basque Country</td>\n      <td>475</td>\n    </tr>\n    <tr>\n      <th>11</th>\n      <td>Barcelona</td>\n      <td>Canary Islands</td>\n      <td>789</td>\n    </tr>\n    <tr>\n      <th>12</th>\n      <td>Barcelona</td>\n      <td>Cantabria</td>\n      <td>132</td>\n    </tr>\n    <tr>\n      <th>13</th>\n      <td>Barcelona</td>\n      <td>Castile and León</td>\n      <td>517</td>\n    </tr>\n    <tr>\n      <th>14</th>\n      <td>Barcelona</td>\n      <td>Castilla-La Mancha</td>\n      <td>347</td>\n    </tr>\n    <tr>\n      <th>15</th>\n      <td>Barcelona</td>\n      <td>Catalonia</td>\n      <td>35036</td>\n    </tr>\n    <tr>\n      <th>16</th>\n      <td>Barcelona</td>\n      <td>Ceuta</td>\n      <td>12</td>\n    </tr>\n    <tr>\n      <th>17</th>\n      <td>Barcelona</td>\n      <td>Community of Madrid</td>\n      <td>2647</td>\n    </tr>\n    <tr>\n      <th>18</th>\n      <td>Barcelona</td>\n      <td>Extremadura</td>\n      <td>201</td>\n    </tr>\n    <tr>\n      <th>19</th>\n      <td>Barcelona</td>\n      <td>Galicia</td>\n      <td>795</td>\n    </tr>\n    <tr>\n      <th>20</th>\n      <td>Barcelona</td>\n      <td>La Rioja</td>\n      <td>72</td>\n    </tr>\n    <tr>\n      <th>21</th>\n      <td>Barcelona</td>\n      <td>Melilla</td>\n      <td>27</td>\n    </tr>\n    <tr>\n      <th>22</th>\n      <td>Barcelona</td>\n      <td>Navarre</td>\n      <td>186</td>\n    </tr>\n    <tr>\n      <th>23</th>\n      <td>Barcelona</td>\n      <td>Region of Murcia</td>\n      <td>243</td>\n    </tr>\n    <tr>\n      <th>24</th>\n      <td>Barcelona</td>\n      <td>Valencian Community</td>\n      <td>1711</td>\n    </tr>\n    <tr>\n      <th>25</th>\n      <td>Basque Country</td>\n      <td>Barcelona</td>\n      <td>710</td>\n    </tr>\n    <tr>\n      <th>26</th>\n      <td>Canary Islands</td>\n      <td>Barcelona</td>\n      <td>863</td>\n    </tr>\n    <tr>\n      <th>27</th>\n      <td>Cantabria</td>\n      <td>Barcelona</td>\n      <td>162</td>\n    </tr>\n    <tr>\n      <th>28</th>\n      <td>Castile and León</td>\n      <td>Barcelona</td>\n      <td>814</td>\n    </tr>\n    <tr>\n      <th>29</th>\n      <td>Castilla-La Mancha</td>\n      <td>Barcelona</td>\n      <td>445</td>\n    </tr>\n    <tr>\n      <th>30</th>\n      <td>Catalonia</td>\n      <td>Barcelona</td>\n      <td>28779</td>\n    </tr>\n    <tr>\n      <th>31</th>\n      <td>Ceuta</td>\n      <td>Barcelona</td>\n      <td>24</td>\n    </tr>\n    <tr>\n      <th>32</th>\n      <td>Community of Madrid</td>\n      <td>Barcelona</td>\n      <td>2942</td>\n    </tr>\n    <tr>\n      <th>33</th>\n      <td>Extremadura</td>\n      <td>Barcelona</td>\n      <td>240</td>\n    </tr>\n    <tr>\n      <th>34</th>\n      <td>Galicia</td>\n      <td>Barcelona</td>\n      <td>983</td>\n    </tr>\n    <tr>\n      <th>35</th>\n      <td>La Rioja</td>\n      <td>Barcelona</td>\n      <td>129</td>\n    </tr>\n    <tr>\n      <th>36</th>\n      <td>Melilla</td>\n      <td>Barcelona</td>\n      <td>60</td>\n    </tr>\n    <tr>\n      <th>37</th>\n      <td>Navarre</td>\n      <td>Barcelona</td>\n      <td>246</td>\n    </tr>\n    <tr>\n      <th>38</th>\n      <td>Region of Murcia</td>\n      <td>Barcelona</td>\n      <td>354</td>\n    </tr>\n    <tr>\n      <th>39</th>\n      <td>Valencian Community</td>\n      <td>Barcelona</td>\n      <td>2305</td>\n    </tr>\n  </tbody>\n</table>\n</div>",
      "text/plain": "                 origin          destination  quantity\n0                Abroad            Barcelona     53085\n1             Andalusia            Barcelona      2416\n2                Aragon            Barcelona       811\n3              Asturias            Barcelona       323\n4      Balearic Islands            Barcelona      1634\n5             Barcelona               Abroad      5485\n6             Barcelona            Andalusia      1596\n7             Barcelona               Aragon       745\n8             Barcelona             Asturias       204\n9             Barcelona     Balearic Islands      1428\n10            Barcelona       Basque Country       475\n11            Barcelona       Canary Islands       789\n12            Barcelona            Cantabria       132\n13            Barcelona     Castile and León       517\n14            Barcelona   Castilla-La Mancha       347\n15            Barcelona            Catalonia     35036\n16            Barcelona                Ceuta        12\n17            Barcelona  Community of Madrid      2647\n18            Barcelona          Extremadura       201\n19            Barcelona              Galicia       795\n20            Barcelona             La Rioja        72\n21            Barcelona              Melilla        27\n22            Barcelona              Navarre       186\n23            Barcelona     Region of Murcia       243\n24            Barcelona  Valencian Community      1711\n25       Basque Country            Barcelona       710\n26       Canary Islands            Barcelona       863\n27            Cantabria            Barcelona       162\n28     Castile and León            Barcelona       814\n29   Castilla-La Mancha            Barcelona       445\n30            Catalonia            Barcelona     28779\n31                Ceuta            Barcelona        24\n32  Community of Madrid            Barcelona      2942\n33          Extremadura            Barcelona       240\n34              Galicia            Barcelona       983\n35             La Rioja            Barcelona       129\n36              Melilla            Barcelona        60\n37              Navarre            Barcelona       246\n38     Region of Murcia            Barcelona       354\n39  Valencian Community            Barcelona      2305"
     },
     "execution_count": 39,
     "metadata": {},
     "output_type": "execute_result"
    }
   ],
   "source": [
    "i_by_dest"
   ]
  },
  {
   "cell_type": "code",
   "execution_count": 45,
   "metadata": {},
   "outputs": [],
   "source": [
    "i_by_origin = i_by_dest.loc[i_by_dest.origin != 'Barcelona', ['origin', 'quantity']].copy()"
   ]
  },
  {
   "cell_type": "code",
   "execution_count": 46,
   "metadata": {},
   "outputs": [
    {
     "data": {
      "text/html": "<div>\n<style scoped>\n    .dataframe tbody tr th:only-of-type {\n        vertical-align: middle;\n    }\n\n    .dataframe tbody tr th {\n        vertical-align: top;\n    }\n\n    .dataframe thead th {\n        text-align: right;\n    }\n</style>\n<table border=\"1\" class=\"dataframe\">\n  <thead>\n    <tr style=\"text-align: right;\">\n      <th></th>\n      <th>origin</th>\n      <th>quantity</th>\n    </tr>\n  </thead>\n  <tbody>\n    <tr>\n      <th>0</th>\n      <td>Abroad</td>\n      <td>53085</td>\n    </tr>\n    <tr>\n      <th>1</th>\n      <td>Andalusia</td>\n      <td>2416</td>\n    </tr>\n    <tr>\n      <th>2</th>\n      <td>Aragon</td>\n      <td>811</td>\n    </tr>\n    <tr>\n      <th>3</th>\n      <td>Asturias</td>\n      <td>323</td>\n    </tr>\n    <tr>\n      <th>4</th>\n      <td>Balearic Islands</td>\n      <td>1634</td>\n    </tr>\n    <tr>\n      <th>25</th>\n      <td>Basque Country</td>\n      <td>710</td>\n    </tr>\n    <tr>\n      <th>26</th>\n      <td>Canary Islands</td>\n      <td>863</td>\n    </tr>\n    <tr>\n      <th>27</th>\n      <td>Cantabria</td>\n      <td>162</td>\n    </tr>\n    <tr>\n      <th>28</th>\n      <td>Castile and León</td>\n      <td>814</td>\n    </tr>\n    <tr>\n      <th>29</th>\n      <td>Castilla-La Mancha</td>\n      <td>445</td>\n    </tr>\n    <tr>\n      <th>30</th>\n      <td>Catalonia</td>\n      <td>28779</td>\n    </tr>\n    <tr>\n      <th>31</th>\n      <td>Ceuta</td>\n      <td>24</td>\n    </tr>\n    <tr>\n      <th>32</th>\n      <td>Community of Madrid</td>\n      <td>2942</td>\n    </tr>\n    <tr>\n      <th>33</th>\n      <td>Extremadura</td>\n      <td>240</td>\n    </tr>\n    <tr>\n      <th>34</th>\n      <td>Galicia</td>\n      <td>983</td>\n    </tr>\n    <tr>\n      <th>35</th>\n      <td>La Rioja</td>\n      <td>129</td>\n    </tr>\n    <tr>\n      <th>36</th>\n      <td>Melilla</td>\n      <td>60</td>\n    </tr>\n    <tr>\n      <th>37</th>\n      <td>Navarre</td>\n      <td>246</td>\n    </tr>\n    <tr>\n      <th>38</th>\n      <td>Region of Murcia</td>\n      <td>354</td>\n    </tr>\n    <tr>\n      <th>39</th>\n      <td>Valencian Community</td>\n      <td>2305</td>\n    </tr>\n  </tbody>\n</table>\n</div>",
      "text/plain": "                 origin  quantity\n0                Abroad     53085\n1             Andalusia      2416\n2                Aragon       811\n3              Asturias       323\n4      Balearic Islands      1634\n25       Basque Country       710\n26       Canary Islands       863\n27            Cantabria       162\n28     Castile and León       814\n29   Castilla-La Mancha       445\n30            Catalonia     28779\n31                Ceuta        24\n32  Community of Madrid      2942\n33          Extremadura       240\n34              Galicia       983\n35             La Rioja       129\n36              Melilla        60\n37              Navarre       246\n38     Region of Murcia       354\n39  Valencian Community      2305"
     },
     "execution_count": 46,
     "metadata": {},
     "output_type": "execute_result"
    }
   ],
   "source": [
    "i_by_origin"
   ]
  },
  {
   "cell_type": "code",
   "execution_count": 47,
   "metadata": {},
   "outputs": [],
   "source": [
    "i_by_origin.reset_index(inplace=True)"
   ]
  },
  {
   "cell_type": "code",
   "execution_count": 52,
   "metadata": {},
   "outputs": [
    {
     "data": {
      "text/html": "<div>\n<style scoped>\n    .dataframe tbody tr th:only-of-type {\n        vertical-align: middle;\n    }\n\n    .dataframe tbody tr th {\n        vertical-align: top;\n    }\n\n    .dataframe thead th {\n        text-align: right;\n    }\n</style>\n<table border=\"1\" class=\"dataframe\">\n  <thead>\n    <tr style=\"text-align: right;\">\n      <th></th>\n      <th>origin</th>\n      <th>quantity</th>\n    </tr>\n  </thead>\n  <tbody>\n    <tr>\n      <th>0</th>\n      <td>Abroad</td>\n      <td>53085</td>\n    </tr>\n    <tr>\n      <th>1</th>\n      <td>Andalusia</td>\n      <td>2416</td>\n    </tr>\n    <tr>\n      <th>2</th>\n      <td>Aragon</td>\n      <td>811</td>\n    </tr>\n    <tr>\n      <th>3</th>\n      <td>Asturias</td>\n      <td>323</td>\n    </tr>\n    <tr>\n      <th>4</th>\n      <td>Balearic Islands</td>\n      <td>1634</td>\n    </tr>\n    <tr>\n      <th>5</th>\n      <td>Basque Country</td>\n      <td>710</td>\n    </tr>\n    <tr>\n      <th>6</th>\n      <td>Canary Islands</td>\n      <td>863</td>\n    </tr>\n    <tr>\n      <th>7</th>\n      <td>Cantabria</td>\n      <td>162</td>\n    </tr>\n    <tr>\n      <th>8</th>\n      <td>Castile and León</td>\n      <td>814</td>\n    </tr>\n    <tr>\n      <th>9</th>\n      <td>Castilla-La Mancha</td>\n      <td>445</td>\n    </tr>\n    <tr>\n      <th>10</th>\n      <td>Catalonia</td>\n      <td>28779</td>\n    </tr>\n    <tr>\n      <th>11</th>\n      <td>Ceuta</td>\n      <td>24</td>\n    </tr>\n    <tr>\n      <th>12</th>\n      <td>Community of Madrid</td>\n      <td>2942</td>\n    </tr>\n    <tr>\n      <th>13</th>\n      <td>Extremadura</td>\n      <td>240</td>\n    </tr>\n    <tr>\n      <th>14</th>\n      <td>Galicia</td>\n      <td>983</td>\n    </tr>\n    <tr>\n      <th>15</th>\n      <td>La Rioja</td>\n      <td>129</td>\n    </tr>\n    <tr>\n      <th>16</th>\n      <td>Melilla</td>\n      <td>60</td>\n    </tr>\n    <tr>\n      <th>17</th>\n      <td>Navarre</td>\n      <td>246</td>\n    </tr>\n    <tr>\n      <th>18</th>\n      <td>Region of Murcia</td>\n      <td>354</td>\n    </tr>\n    <tr>\n      <th>19</th>\n      <td>Valencian Community</td>\n      <td>2305</td>\n    </tr>\n  </tbody>\n</table>\n</div>",
      "text/plain": "                 origin  quantity\n0                Abroad     53085\n1             Andalusia      2416\n2                Aragon       811\n3              Asturias       323\n4      Balearic Islands      1634\n5        Basque Country       710\n6        Canary Islands       863\n7             Cantabria       162\n8      Castile and León       814\n9    Castilla-La Mancha       445\n10            Catalonia     28779\n11                Ceuta        24\n12  Community of Madrid      2942\n13          Extremadura       240\n14              Galicia       983\n15             La Rioja       129\n16              Melilla        60\n17              Navarre       246\n18     Region of Murcia       354\n19  Valencian Community      2305"
     },
     "execution_count": 52,
     "metadata": {},
     "output_type": "execute_result"
    }
   ],
   "source": [
    "i_by_origin.loc[ :,['origin', 'quantity']]"
   ]
  },
  {
   "cell_type": "code",
   "execution_count": 53,
   "metadata": {},
   "outputs": [],
   "source": [
    "i_by_origin.to_csv('datasets/3.-Population/immigrants-by-origin_cleaned.csv')"
   ]
  },
  {
   "cell_type": "code",
   "execution_count": null,
   "metadata": {},
   "outputs": [],
   "source": []
  }
 ]
}